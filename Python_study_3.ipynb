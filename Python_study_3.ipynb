{
 "cells": [
  {
   "cell_type": "markdown",
   "metadata": {},
   "source": [
    "7章\n",
    "7.1 手の込んだフォーマット\n",
    "　これまで値を書き出す方法は2種類出ている。式文*とprint()である。\n",
    " *式文は対話モードの時に式だけを入力した際、その式の値が出力されること。\n",
    " (3番目はファイルオブジェクトでwrite()メソッドを使うこと。)\n",
    " 出力のフォーマット方法は2つある。\n",
    " ひとつは自分で文字列に空白を追加する、文字列スライシングと連結操作などの手動でやる方法\n",
    " もうひとつはstr.formatメソッドを用いることである。\n",
    " 　さらにもうひとつ、stringモジュールには、値を文字列に置き換える方法を提供するTemplateクラスが入っている。\n",
    "  値を文字列に変換する方法がある。\n",
    "  関数repr()か関数str()に渡す方法である。\n",
    "  関数str()はそれなりに人間に読みやすい表現を返すことを意図しているのに対し、\n",
    "  repr()関数はインタープリタが読める表現を生成することを意図している（等価の構文が存在しない時はSyntaxErrorを強制する）\n",
    " 数値や構造体などの値は、どちらの関数を使っても同じ表現になる。\n",
    " ただし文字列の場合は異なる表現を持つ。"
   ]
  },
  {
   "cell_type": "code",
   "execution_count": null,
   "metadata": {},
   "outputs": [],
   "source": []
  },
  {
   "cell_type": "code",
   "execution_count": 1,
   "metadata": {},
   "outputs": [
    {
     "data": {
      "text/plain": [
       "'Hello, world'"
      ]
     },
     "execution_count": 1,
     "metadata": {},
     "output_type": "execute_result"
    }
   ],
   "source": [
    "s = 'Hello, world'\n",
    "str(s)"
   ]
  },
  {
   "cell_type": "code",
   "execution_count": 2,
   "metadata": {},
   "outputs": [
    {
     "data": {
      "text/plain": [
       "\"'Hello, world'\""
      ]
     },
     "execution_count": 2,
     "metadata": {},
     "output_type": "execute_result"
    }
   ],
   "source": [
    "repr(s)"
   ]
  },
  {
   "cell_type": "code",
   "execution_count": 3,
   "metadata": {},
   "outputs": [
    {
     "data": {
      "text/plain": [
       "'0.14285714285714285'"
      ]
     },
     "execution_count": 3,
     "metadata": {},
     "output_type": "execute_result"
    }
   ],
   "source": [
    "str(1/7)"
   ]
  },
  {
   "cell_type": "code",
   "execution_count": 4,
   "metadata": {},
   "outputs": [
    {
     "name": "stdout",
     "output_type": "stream",
     "text": [
      "The value of x is 32.5, and t is 40000...\n"
     ]
    }
   ],
   "source": [
    "x = 10 * 3.25\n",
    "y = 200 * 200\n",
    "s = 'The value of x is '+ repr(x) + ', and t is '+ repr(y)+'...'\n",
    "print(s)"
   ]
  },
  {
   "cell_type": "code",
   "execution_count": 5,
   "metadata": {},
   "outputs": [
    {
     "name": "stdout",
     "output_type": "stream",
     "text": [
      "'hello, world\\n'\n"
     ]
    }
   ],
   "source": [
    "#文字列のrepr()は文字列クォートとバックスラッシュを追加する。\n",
    "hello = 'hello, world\\n'\n",
    "hellos = repr(hello)\n",
    "print(hellos)"
   ]
  },
  {
   "cell_type": "code",
   "execution_count": 6,
   "metadata": {},
   "outputs": [
    {
     "data": {
      "text/plain": [
       "\"(32.5, 40000, ('spam', 'eggs'))\""
      ]
     },
     "execution_count": 6,
     "metadata": {},
     "output_type": "execute_result"
    }
   ],
   "source": [
    "#あらゆるPythonオブジェクトがrepr()の引数になれる\n",
    "repr((x,y,('spam','eggs')))"
   ]
  },
  {
   "cell_type": "code",
   "execution_count": 7,
   "metadata": {},
   "outputs": [
    {
     "name": "stdout",
     "output_type": "stream",
     "text": [
      " 1   1    1\n",
      " 2   4    8\n",
      " 3   9   27\n",
      " 4  16   64\n",
      " 5  25  125\n",
      " 6  36  216\n",
      " 7  49  343\n",
      " 8  64  512\n",
      " 9  81  729\n",
      "10 100 1000\n"
     ]
    }
   ],
   "source": [
    "#2種類の方法で平方と立方の表を書く\n",
    "for x in range(1,11):\n",
    "    print(repr(x).rjust(2),repr(x*x).rjust(3),end=' ')\n",
    "    print(repr(x*x*x).rjust(4))"
   ]
  },
  {
   "cell_type": "code",
   "execution_count": 1,
   "metadata": {},
   "outputs": [
    {
     "name": "stdout",
     "output_type": "stream",
     "text": [
      " 1  1   1\n",
      " 2  4   8\n",
      " 3  9  27\n",
      " 4 16  64\n",
      " 5 25 125\n",
      " 6 36 216\n",
      " 7 49 343\n",
      " 8 64 512\n",
      " 9 81 729\n",
      "101001000\n"
     ]
    }
   ],
   "source": [
    "for x in range(1,11):\n",
    "    print('{0:2d}{1:3d}{2:4d}'.format(x,x*x,x*x*x))"
   ]
  },
  {
   "cell_type": "code",
   "execution_count": null,
   "metadata": {
    "collapsed": true
   },
   "outputs": [],
   "source": [
    "#print()関数による出力は各カラムにひとつずつスペースが追加されている。"
   ]
  },
  {
   "cell_type": "markdown",
   "metadata": {},
   "source": [
    "文字列オブジェクトstr.rjust()メソッドを使用したが、これは文字列の左側にスペースを追加して、指定の幅に右揃えするものだ。str.ljust()とstr.center()という類似メソッドもある。\n",
    "長い入力文字列を切り詰めたいならx.ljust(n)[:n]などとする。丸めるならround()"
   ]
  },
  {
   "cell_type": "code",
   "execution_count": 2,
   "metadata": {},
   "outputs": [
    {
     "data": {
      "text/plain": [
       "'00012'"
      ]
     },
     "execution_count": 2,
     "metadata": {},
     "output_type": "execute_result"
    }
   ],
   "source": [
    "#もうひとつ,str.zfill()というメソッドがある。\n",
    "#これは数字の文字列の左側をゼロでパディングするもので、プラスとマイナスの富豪も理解する\n",
    "'12'.zfill(5)"
   ]
  },
  {
   "cell_type": "code",
   "execution_count": 3,
   "metadata": {},
   "outputs": [
    {
     "data": {
      "text/plain": [
       "'-003.14'"
      ]
     },
     "execution_count": 3,
     "metadata": {},
     "output_type": "execute_result"
    }
   ],
   "source": [
    "'-3.14'.zfill(7)"
   ]
  },
  {
   "cell_type": "code",
   "execution_count": 4,
   "metadata": {},
   "outputs": [
    {
     "data": {
      "text/plain": [
       "'3.14159265359'"
      ]
     },
     "execution_count": 4,
     "metadata": {},
     "output_type": "execute_result"
    }
   ],
   "source": [
    "'3.14159265359'.zfill(5)"
   ]
  },
  {
   "cell_type": "code",
   "execution_count": 14,
   "metadata": {},
   "outputs": [
    {
     "name": "stdout",
     "output_type": "stream",
     "text": [
      "We are the knights who say \"Ni!\"\n"
     ]
    }
   ],
   "source": [
    "#str.format()メソッドの使い方\n",
    "print('We are the {} who say \"{}!\"'.format('knights', 'Ni'))"
   ]
  },
  {
   "cell_type": "markdown",
   "metadata": {},
   "source": [
    "{}とその中の文字(これらをフォーマットフィールドという)は、str.format()メソッドに渡されたオブジェクトで置き換えられる。{}の中には、str.format()メソッドに渡されたオブジェクトの位置を参照する数字を入れることができる。"
   ]
  },
  {
   "cell_type": "code",
   "execution_count": 13,
   "metadata": {},
   "outputs": [
    {
     "name": "stdout",
     "output_type": "stream",
     "text": [
      "spam and eggs\n"
     ]
    }
   ],
   "source": [
    "print('{0} and {1}'.format('spam','eggs'))"
   ]
  },
  {
   "cell_type": "code",
   "execution_count": 15,
   "metadata": {},
   "outputs": [
    {
     "name": "stdout",
     "output_type": "stream",
     "text": [
      "eggs and spam\n"
     ]
    }
   ],
   "source": [
    "print('{1} and {0}'.format('spam','eggs'))"
   ]
  },
  {
   "cell_type": "code",
   "execution_count": 16,
   "metadata": {},
   "outputs": [
    {
     "name": "stdout",
     "output_type": "stream",
     "text": [
      "spam and spam\n"
     ]
    }
   ],
   "source": [
    "print('{0} and {0}'.format('spam','eggs'))"
   ]
  },
  {
   "cell_type": "code",
   "execution_count": 17,
   "metadata": {},
   "outputs": [
    {
     "name": "stdout",
     "output_type": "stream",
     "text": [
      "This spam is absolutely horrible.\n"
     ]
    }
   ],
   "source": [
    "#str.format()メソッドでキーワード引数を受け取り、参照にこのキーワードを使うことができる。\n",
    "print('This {food} is {adjective}.'.format(food='spam',adjective='absolutely horrible'))"
   ]
  },
  {
   "cell_type": "code",
   "execution_count": 18,
   "metadata": {},
   "outputs": [
    {
     "name": "stdout",
     "output_type": "stream",
     "text": [
      "The story of Bill,Manfred, and Georg.\n"
     ]
    }
   ],
   "source": [
    "#位置引数とキーワード引数は自由に混在できる\n",
    "print('The story of {0},{1}, and {other}.'.format('Bill','Manfred',other='Georg'))"
   ]
  },
  {
   "cell_type": "code",
   "execution_count": null,
   "metadata": {},
   "outputs": [],
   "source": [
    "「!a」(ascii()を適用)、「!s」(str()を適用)、「!r」(repr()を適用)を使えば、\n",
    "フォーマット前に値の変換ができる"
   ]
  },
  {
   "cell_type": "code",
   "execution_count": 19,
   "metadata": {},
   "outputs": [
    {
     "name": "stdout",
     "output_type": "stream",
     "text": [
      "The value of PI is approximately 3.141592653589793.\n"
     ]
    }
   ],
   "source": [
    "import math\n",
    "print('The value of PI is approximately {}.'.format(math.pi))"
   ]
  },
  {
   "cell_type": "code",
   "execution_count": 20,
   "metadata": {},
   "outputs": [
    {
     "name": "stdout",
     "output_type": "stream",
     "text": [
      "The value of PI is approximately 3.141592653589793.\n"
     ]
    }
   ],
   "source": [
    "print('The value of PI is approximately {!r}.'.format(math.pi))"
   ]
  },
  {
   "cell_type": "markdown",
   "metadata": {},
   "source": [
    "フィールド名の後ろには、「:」とそれに続くフォーマット指定子を追加することができる。\n",
    "これにより値のフォーマットはさらにコントロールしやすくなる。\n",
    "以下の例はπを小数点以下3文字に丸めるものだ。"
   ]
  },
  {
   "cell_type": "code",
   "execution_count": 23,
   "metadata": {},
   "outputs": [
    {
     "name": "stdout",
     "output_type": "stream",
     "text": [
      "πの値はおよそ3.142である。\n"
     ]
    }
   ],
   "source": [
    "import math\n",
    "print('πの値はおよそ{0:.3f}である。'.format(math.pi))"
   ]
  },
  {
   "cell_type": "code",
   "execution_count": 25,
   "metadata": {},
   "outputs": [
    {
     "name": "stdout",
     "output_type": "stream",
     "text": [
      "Sjoerd     ==>       4127\n",
      "Jack       ==>       4098\n",
      "Dcab       ==>       7678\n"
     ]
    }
   ],
   "source": [
    "table = {'Sjoerd': 4127, 'Jack': 4098, 'Dcab': 7678}\n",
    "for name,phone in table.items():\n",
    "    print('{0:10} ==> {1:10d}'.format(name,phone))"
   ]
  },
  {
   "cell_type": "code",
   "execution_count": 26,
   "metadata": {},
   "outputs": [
    {
     "name": "stdout",
     "output_type": "stream",
     "text": [
      "Jack: 4098; Sjoerd: 4127; Dcab: 8637678\n"
     ]
    }
   ],
   "source": [
    "#長いフォーマット文字列があるなら、名前で参照できた方がいいかも\n",
    "#これはdictを渡してアクセスキーに角かっこ[]を使うだけで可能だ。\n",
    "table = {'Sjoerd': 4127, 'Jack': 4098, 'Dcab': 8637678}\n",
    "print('Jack: {0[Jack]:d}; Sjoerd: {0[Sjoerd]:d}; ''Dcab: {0[Dcab]:d}'.format(table))"
   ]
  },
  {
   "cell_type": "code",
   "execution_count": null,
   "metadata": {},
   "outputs": [],
   "source": [
    "#また、このtableを'**'表記を使ってキーワード引数としても同じことができる："
   ]
  },
  {
   "cell_type": "code",
   "execution_count": 1,
   "metadata": {},
   "outputs": [
    {
     "name": "stdout",
     "output_type": "stream",
     "text": [
      "Jack: 4098; Sjoerd: 4127; Dcab: 8637678\n"
     ]
    }
   ],
   "source": [
    "table = {'Sjoerd': 4127, 'Jack': 4098,'Dcab':8637678}\n",
    "print('Jack: {Jack:d}; Sjoerd: {Sjoerd:d}; Dcab: {Dcab:d}'.format(**table))"
   ]
  },
  {
   "cell_type": "markdown",
   "metadata": {},
   "source": [
    "これは新しいビルトイン関数vars()と組み合わせると特に便利だ。vars()はローカル変数を全て含んだディクショナリを返す関数である。\n",
    "　str.format()による文字列フォーマッティングについて全てをカバーした概説としては、書式指定文字列の文法を参照。"
   ]
  },
  {
   "cell_type": "markdown",
   "metadata": {},
   "source": [
    "#従来形式の文字列フォーマッティング\n",
    "　文字列フォーマッティングには%演算子を使うことができる。\n",
    " これはsprintf()で使われるのとほぼ同じ形式を取った左辺引数を解釈し、右辺引数に適用することによるフォーマット演算を行い、結果の文字列を返す。"
   ]
  },
  {
   "cell_type": "code",
   "execution_count": 3,
   "metadata": {},
   "outputs": [
    {
     "name": "stdout",
     "output_type": "stream",
     "text": [
      "πの値はおよそ3.142である。\n"
     ]
    }
   ],
   "source": [
    "import math\n",
    "print('πの値はおよそ%5.3fである。'%math.pi)"
   ]
  },
  {
   "cell_type": "markdown",
   "metadata": {},
   "source": [
    "#7.2 ファイルの読み書き\n",
    " open()はファイルオブジェクトを返す関数で、open(<ファイル名>,<モード>)のように、2つの引数を与えるのが一番普通の使い方だ。"
   ]
  },
  {
   "cell_type": "code",
   "execution_count": 4,
   "metadata": {},
   "outputs": [],
   "source": [
    "f = open('workfile','w')"
   ]
  },
  {
   "cell_type": "markdown",
   "metadata": {},
   "source": [
    "　第1引数は文字列でファイル名である。\n",
    " 第2引数も文字列で、ファイルの使われ方を示す文字を入れる。\n",
    " 第2引数の「モード」は\n",
    " [r]ファイルを読み込み専用で開く\n",
    " [w]ファイルを書き出し専用で開く\n",
    " [a]追加、書き込みデータファイルがファイル末尾に自動的に追加されていくようになる\n",
    " [r+]読み書き両用、ただしこの引数はオプションであり、省略すれば[r]とみなされる。\n",
    " 　ファイルはデフォだと「テキストモード」で開かれる。これは特定のエンコーディングのファイルに対して文字列を読み書きするという意味である。エンコーディングが指定されていない時のデフォルトはプラットフォーム依存である。\n",
    "  ファイルをバイナリモードで開くには、モード引数に「'b'」を追加する。\n",
    "テキストを含まないファイルは全て、このモードで読み書きすべきである。\n",
    "テキストモード読み込みでは、プラットフォーム依存の行末文字(UNIXでは\\n,Windowsでは\\r\\n)が読み込まれると、単なる\\nに変換されるのがデフォルトとなっている。\n",
    "　テキストモード書き込みでは、この\\nはプラットフォームごとの行末文字に戻されるのがデフォ。\n",
    " このような改変はテキストファイルには良いが、JPGやEXEのようなバイナリファイではデータを壊してしますう。\n",
    " ファイルの読み書きの際は、バイナリモードを使うように注意。"
   ]
  },
  {
   "cell_type": "markdown",
   "metadata": {},
   "source": [
    "#ファイルオブジェクトのメソッド\n",
    "　以下の例ではファイルオブジェクトfが生成してあることを前提とする。\n",
    " ファイルの中身を読むには、「f.read(サイズ)」をコールする。これはある量のデータを読み込み、文字列またはbytesのオブジェクトとして返す。「サイズ」は数値によるオプション引数だ。「サイズ」を省略したり、負数を与えると、ファイルの内容を全て読み込んで返す。最大で「サイズ」数のバイトが読み込まれて返される。\n",
    " ファイルの末尾に達すると、f.nead()は空の文字列('')を返す"
   ]
  },
  {
   "cell_type": "code",
   "execution_count": null,
   "metadata": {},
   "outputs": [],
   "source": [
    ">>>f.read()\n",
    "'This is the rntire file.\\n'\n",
    ">>>f.read()\n",
    "''"
   ]
  },
  {
   "cell_type": "markdown",
   "metadata": {},
   "source": [
    "f.leadline()はファイルから1行読む。文字列末尾には改行文字「\\n」が残されている。\n",
    "これを持たないのは改行で終わらないファイルの最終行だけであり、\n",
    "空行は改行「\\n」のみの文字列で表現されることになるので、\n",
    "返り値には曖昧さがない。\n",
    "f.readline()が空の文字列を返せば、すなわちファイル末尾に達したということである。"
   ]
  },
  {
   "cell_type": "code",
   "execution_count": null,
   "metadata": {},
   "outputs": [],
   "source": [
    ">>>f.readline()\n",
    "'This is the first line of the file.\\n'\n",
    ">>>f.readline()\n",
    "'Second line of the file\\n'\n",
    ">>>f.readline()\n",
    "''\n",
    "#行単位ならループ構文でかける\n",
    ">>>for line in f:\n",
    "    print(line, end='')\n",
    "    'This is the first line of the file.\\n'\n",
    "    'Second line of the file\\n'"
   ]
  },
  {
   "cell_type": "code",
   "execution_count": 2,
   "metadata": {},
   "outputs": [],
   "source": [
    "#ファイルを全ての行にリストに読み込みたいときは、list(f)かf.readlines()を使う。\n",
    "#f.write(文字列)は、「文字列」の内容をファイルに書き込み、書き込まれたキャラクタの数を返す\n",
    ">>>f.write('THis is a test\\n')\n",
    "15"
   ]
  },
  {
   "cell_type": "code",
   "execution_count": 4,
   "metadata": {},
   "outputs": [],
   "source": [
    "#文字列でないものを書き込む時は、文字列に変換しておく必要がある。\n",
    ">>>value = ('the answer',42)\n",
    ">>>s = str(value)\n",
    ">>>f.write(s)\n",
    "18"
   ]
  },
  {
   "cell_type": "markdown",
   "metadata": {},
   "source": [
    "f.tell()はファイルの中での現在位置を示す整数を返す。\n",
    "これはファイル先頭からのバイト数で、バイナリーモードならそのままの意味だが、\n",
    "テキストモードではよくわからない数字になる。\n",
    "　現在位置を変えたい時はf.seek(オフセット、起点)\n",
    " 位置は、参照点とオフセットの和で算出する。参照点は「起点」因数により選ぶ。\n",
    " 「起点」も値が0ならファイルの先頭、1で現在位置、2ではファイルの末尾を参照点として、そこから測る。\n",
    " 「起点」は省略可能で、このときのデフォルトは0、つまりファイルの先頭を参照点とする。"
   ]
  },
  {
   "cell_type": "code",
   "execution_count": null,
   "metadata": {},
   "outputs": [],
   "source": [
    ">>>f = open('workfile','rb+')\n",
    ">>>f.write(b'0123456789abcdef')\n",
    "16\n",
    ">>>f.seek(5)\n",
    "5\n",
    ">>>f.read(1)\n",
    "b'5'\n",
    ">>>f.seek(-3.2)\n",
    "13\n",
    "f.read(1)\n",
    "b'd'"
   ]
  },
  {
   "cell_type": "code",
   "execution_count": null,
   "metadata": {},
   "outputs": [],
   "source": [
    "作業が済んだらf.close()をコールしてファイルをクローズし、\n",
    "オープンしたファイルが占めていたシステムリソースを全て開放する事。\n",
    "f.close()のコール後に、ファイルオブジェクトを使おうとすると、自動的に失敗する\n",
    ">>>f.close()\n",
    ">>>f.read()\n",
    "ERROR\n",
    "ValueError: I/o operation on closed file\n",
    "    (クローズ済みのファイルへのI/O操作)\n",
    "ファイルオブジェクトを扱う時はキーワードwithを使う、というのが良い習慣。\n",
    "利点としては、一連の捜査から抜ける時はファイルが正しく閉じられるという事で、\n",
    "これは途中で例外が送出されたとしても処理される。\n",
    "またこれは、同党の動作になるtry-finallyブロックよりずっと短い\n",
    ">>>with open('worklife','r') as f:\n",
    "    ....    read_data = f.read()\n",
    ">>>f.closed\n",
    "True\n",
    "\n",
    "ファイルオブジェクトにはisatty(),truncate()といったメソッドもあるが、それほど使われない。"
   ]
  },
  {
   "cell_type": "markdown",
   "metadata": {},
   "source": [
    "#構造のあるデータをjsonで保存する\n",
    "　read()メソッドはは文字列しか返さないので、文字列'123'を数値123にして返すint()などの関数に食わせる必要がある。\n",
    "JSONというデータ交換フォーマットがある\n",
    "標準モジュールjsonは、Pythonのデータ階層構造をとって文字列表現にコンバートすることができる。\n",
    "このプロセスを「シリアライズ」という。\n",
    "文字列表現からデータを再構築することは「デシリアライズ」という。"
   ]
  },
  {
   "cell_type": "code",
   "execution_count": null,
   "metadata": {
    "collapsed": true
   },
   "outputs": [],
   "source": [
    "オブジェクトXがあるとして、そのJSON文字列表現は1行で見れる。\n",
    ">>>x=[1,'simple','list']\n",
    ">>>json.dumps(x)\n",
    "'[1,\"simple\",\"list\"]'"
   ]
  },
  {
   "cell_type": "markdown",
   "metadata": {},
   "source": [
    "dumps()の変種dump()関数は、オブシェクとをテキストファイルにシリアライズする。\n",
    "だから、書き込み用にオープンしてあるテキストファイルオブジェクトfがあるとすると、このようなことができる\n",
    "json.dump(x,f)\n",
    "デコードしてオブジェクトに戻すには、fが読み込みモードで開いてあるとして、\n",
    "次のようにする。"
   ]
  },
  {
   "cell_type": "code",
   "execution_count": null,
   "metadata": {},
   "outputs": [],
   "source": [
    "x = json.load(f)\n",
    "リストやディクショナリはこのシンプルな方法でシリアライズできるが、\n",
    "任意クラスのインスタンスをJSONにシリアライズするには、もう少し努力が必要。"
   ]
  },
  {
   "cell_type": "code",
   "execution_count": null,
   "metadata": {
    "collapsed": true
   },
   "outputs": [],
   "source": [
    "8章　エラーと例外\n",
    "\n",
    "エラーには少なくとも2つある\n",
    "構文エラー(syntax error)と例外(exception)"
   ]
  },
  {
   "cell_type": "code",
   "execution_count": 1,
   "metadata": {},
   "outputs": [
    {
     "ename": "SyntaxError",
     "evalue": "invalid syntax (<ipython-input-1-5796c9c7146c>, line 2)",
     "output_type": "error",
     "traceback": [
      "\u001b[0;36m  File \u001b[0;32m\"<ipython-input-1-5796c9c7146c>\"\u001b[0;36m, line \u001b[0;32m2\u001b[0m\n\u001b[0;31m    while True print('Hello world')\u001b[0m\n\u001b[0m                   ^\u001b[0m\n\u001b[0;31mSyntaxError\u001b[0m\u001b[0;31m:\u001b[0m invalid syntax\n"
     ]
    }
   ],
   "source": [
    "#8.1構文エラー\n",
    "while True print('Hello world')"
   ]
  },
  {
   "cell_type": "code",
   "execution_count": null,
   "metadata": {},
   "outputs": [],
   "source": [
    "パーサはエラーの起きている行を表示し、小さな矢印で位置を示してくれる。\n",
    "エラーは矢印の直前のトークンか、そこで検出されている。\n",
    "上記例では、エラー関数print()が検出されている。コロンがその前に無いからだ。\n",
    "入力がスクリプトから来ている場合は、どこを見ればいいかわかるように\n",
    "ファイル名と行番号が出力される。"
   ]
  },
  {
   "cell_type": "markdown",
   "metadata": {},
   "source": [
    "#8.2\n",
    "式や構文が正しくても、実行しようとしたときにエラーが発生するかもしれない。\n",
    "実行中に出たエラーは”例外”(exception)と呼ばれる。\n",
    "ほとんどの例外はプログラムで処理されず、いかに示されるようなメッセージになる"
   ]
  },
  {
   "cell_type": "code",
   "execution_count": 2,
   "metadata": {},
   "outputs": [
    {
     "ename": "ZeroDivisionError",
     "evalue": "division by zero",
     "output_type": "error",
     "traceback": [
      "\u001b[0;31m---------------------------------------------------------------------------\u001b[0m",
      "\u001b[0;31mZeroDivisionError\u001b[0m                         Traceback (most recent call last)",
      "\u001b[0;32m<ipython-input-2-fbc7e86ae71a>\u001b[0m in \u001b[0;36m<module>\u001b[0;34m\u001b[0m\n\u001b[0;32m----> 1\u001b[0;31m \u001b[0;36m10\u001b[0m\u001b[0;34m*\u001b[0m\u001b[0;34m(\u001b[0m\u001b[0;36m1\u001b[0m\u001b[0;34m/\u001b[0m\u001b[0;36m0\u001b[0m\u001b[0;34m)\u001b[0m\u001b[0;34m\u001b[0m\u001b[0;34m\u001b[0m\u001b[0m\n\u001b[0m",
      "\u001b[0;31mZeroDivisionError\u001b[0m: division by zero"
     ]
    }
   ],
   "source": [
    "10*(1/0)"
   ]
  },
  {
   "cell_type": "code",
   "execution_count": 3,
   "metadata": {},
   "outputs": [
    {
     "ename": "NameError",
     "evalue": "name 'spam' is not defined",
     "output_type": "error",
     "traceback": [
      "\u001b[0;31m---------------------------------------------------------------------------\u001b[0m",
      "\u001b[0;31mNameError\u001b[0m                                 Traceback (most recent call last)",
      "\u001b[0;32m<ipython-input-3-31e460ab435d>\u001b[0m in \u001b[0;36m<module>\u001b[0;34m\u001b[0m\n\u001b[0;32m----> 1\u001b[0;31m \u001b[0;36m4\u001b[0m\u001b[0;34m+\u001b[0m\u001b[0mspam\u001b[0m\u001b[0;34m*\u001b[0m\u001b[0;36m3\u001b[0m\u001b[0;34m\u001b[0m\u001b[0;34m\u001b[0m\u001b[0m\n\u001b[0m",
      "\u001b[0;31mNameError\u001b[0m: name 'spam' is not defined"
     ]
    }
   ],
   "source": [
    "4+spam*3"
   ]
  },
  {
   "cell_type": "code",
   "execution_count": 4,
   "metadata": {},
   "outputs": [
    {
     "ename": "TypeError",
     "evalue": "can only concatenate str (not \"int\") to str",
     "output_type": "error",
     "traceback": [
      "\u001b[0;31m---------------------------------------------------------------------------\u001b[0m",
      "\u001b[0;31mTypeError\u001b[0m                                 Traceback (most recent call last)",
      "\u001b[0;32m<ipython-input-4-7e1e50100c0b>\u001b[0m in \u001b[0;36m<module>\u001b[0;34m\u001b[0m\n\u001b[0;32m----> 1\u001b[0;31m \u001b[0;34m'2'\u001b[0m\u001b[0;34m+\u001b[0m\u001b[0;36m2\u001b[0m\u001b[0;34m\u001b[0m\u001b[0;34m\u001b[0m\u001b[0m\n\u001b[0m",
      "\u001b[0;31mTypeError\u001b[0m: can only concatenate str (not \"int\") to str"
     ]
    }
   ],
   "source": [
    "'2'+2"
   ]
  },
  {
   "cell_type": "code",
   "execution_count": null,
   "metadata": {},
   "outputs": [],
   "source": [
    "エラーメッセージの最終行は何が起こったかを示してくれる。\n",
    "例外は様々な型(type)で起こり、その型がエラーメッセージの一部として出力される。\n",
    "上記ではZeroDivisionError,NameError,TypeErrorである。\n",
    "例外の名前は、発生した例外の組み込み名。標準例外の名前は組み込みの識別子である。\n",
    "　残りの行は例外の詳細で、その例外の型と何が起きたかに依存する。"
   ]
  },
  {
   "cell_type": "code",
   "execution_count": 7,
   "metadata": {},
   "outputs": [],
   "source": [
    "#8.3 例外を処理する\n",
    "#例外を処理するようなプログラムを書くことができる。以下例\n",
    "while True:\n",
    "    try:\n",
    "        x = int(input(\"Please enter a number\"))\n",
    "        break\n",
    "    except ValueError:\n",
    "        print(\"Oops!  That was no valid number.  Try again...\")"
   ]
  },
  {
   "cell_type": "markdown",
   "metadata": {},
   "source": [
    "try文は下記のように動作する。\n",
    "まず、 try 節 (try clause) (キーワード try と except の間の文) が実行されます。\n",
    "何も例外が発生しなければ、 except 節 をスキップして try 文の実行を終えます。\n",
    "try 節内の実行中に例外が発生すると、その節の残りは飛ばされます。次に、例外型が except キーワードの後に指定されている例外に一致する場合、except 節が実行された後、 try 文の後ろへ実行が継続されます。\n",
    "もしも except 節で指定された例外と一致しない例外が発生すると、その例外は try 文の外側に渡されます。例外に対するハンドラ (handler、処理部) がどこにもなければ、 未処理例外 (unhandled exception) となり、上記に示したようなメッセージを出して実行を停止します。"
   ]
  },
  {
   "cell_type": "code",
   "execution_count": null,
   "metadata": {},
   "outputs": [],
   "source": [
    "1つのtry文には複数のexcept節がつけられ、別々の例外に対するハンドラを指定できる。\n",
    "多くても1つだけしか実行されない。\n",
    "ハンドラは対応するtry節内で発生した例外だけを処理し、同じtry節内の別の例外ハンドラで起きた例外は処理しない。\n",
    "except節では()で囲ったタプルという形で複数の例外を指定できる。"
   ]
  },
  {
   "cell_type": "code",
   "execution_count": null,
   "metadata": {},
   "outputs": [],
   "source": [
    "except(RuntimeError,TypeError.NameError):\n",
    "    pass"
   ]
  },
  {
   "cell_type": "code",
   "execution_count": null,
   "metadata": {},
   "outputs": [],
   "source": [
    "except節のクラスは、例外と同じクラスか基底クラスのときに互換(compatible)となる。\n",
    "（逆方向では成り立たない---派生クラスの例外がリストされているexcept節は基底クラスの例外と互換では無い）\n",
    "以下例はB,C,Dと順序通りに処理される。"
   ]
  },
  {
   "cell_type": "code",
   "execution_count": 9,
   "metadata": {},
   "outputs": [
    {
     "name": "stdout",
     "output_type": "stream",
     "text": [
      "B\n",
      "C\n",
      "D\n"
     ]
    }
   ],
   "source": [
    "class B(Exception):\n",
    "    pass\n",
    "\n",
    "class C(B):\n",
    "    pass\n",
    "\n",
    "class D(C):\n",
    "    pass\n",
    "\n",
    "for cls in [B, C, D]:\n",
    "    try:\n",
    "        raise cls()\n",
    "    except D:\n",
    "        print(\"D\")\n",
    "    except C:\n",
    "        print(\"C\")\n",
    "    except B:\n",
    "        print(\"B\")"
   ]
  },
  {
   "cell_type": "code",
   "execution_count": null,
   "metadata": {},
   "outputs": [],
   "source": [
    "except節が逆に並んでいた場合(excepto節が最初に来る場合)、B,B,Bと出力されるはずだったが、\n",
    "最初に一致したexcept節が駆動される。"
   ]
  },
  {
   "cell_type": "markdown",
   "metadata": {},
   "source": [
    "最後に置いたexcept節では例外名を省いて、ワイルドカード(wildcard,全部)にすることができる。\n",
    "しかし、これは本当のプログラムエラーをわからなくしてしまうので、注意が必要。\n",
    "ワイルドカードのexcept節はエラーメッセージを出力した後に例外を再送出する(関数やメソッドの呼び出し側が同様にして例外を処理できるようにする)用途にも使える"
   ]
  },
  {
   "cell_type": "code",
   "execution_count": null,
   "metadata": {},
   "outputs": [],
   "source": [
    "import sys\n",
    "\n",
    "try:\n",
    "    f = open('myfile.txt')\n",
    "    s = f.readline()\n",
    "    i = int(s.strip())\n",
    "except OSError as err:\n",
    "    print(\"OS erroe:{0}\".format(err))\n",
    "except ValueErroe:\n",
    "    print(\"Could not convert data to an integer.\")\n",
    "except:\n",
    "    print(\"Unexpected error:\",sys.exc_info()[0])\n",
    "    raise"
   ]
  },
  {
   "cell_type": "code",
   "execution_count": null,
   "metadata": {},
   "outputs": [],
   "source": [
    "try,...except分にはオプションでelse節を設けることができる。\n",
    "そうする場合、except節より後ろに置かなければならない。\n",
    "else節はtry節で例外が創出されなかったときに実行されるコードを書くのに役立つ"
   ]
  },
  {
   "cell_type": "code",
   "execution_count": null,
   "metadata": {},
   "outputs": [],
   "source": [
    "for arg in sys.argv[1:]:\n",
    "    try:\n",
    "        f = open(arg,'r')\n",
    "    except OSError:\n",
    "        print('cannoto open',arg)\n",
    "    else:\n",
    "        print(arg,'has',len(f.readlines()),'lines')\n",
    "        f.close()"
   ]
  },
  {
   "cell_type": "markdown",
   "metadata": {},
   "source": [
    "追加のコードを付け加えるのは、try節よりもelse節の方が良い。\n",
    "try,,,except文でプロテクトすべきでないコードから例外が送出されたとき、\n",
    "意図せずキャッチしてしまうのを回避できるからである。\n",
    "\n",
    "例外が発生するとき、例外は関連付けられた値を持つことができます。\n",
    "この値は例外の 引数 (argument) とも呼ばれます。\n",
    "引数の有無および引数の型は、例外の型に依存します。\n",
    "\n",
    "except 節では、例外名の後に変数を指定することができます。この変数は例外インスタンスに結び付けられており、\n",
    "instance.args に例外インスタンス生成時の引数が入っています。\n",
    "例外インスタンスには __str__() が定義されており、\n",
    ".args を参照しなくても引数を直接プリントできるように利便性が図られています。\n",
    "必要なら、例外を送出する前にインスタンス化して、任意の属性を追加できます。"
   ]
  },
  {
   "cell_type": "code",
   "execution_count": null,
   "metadata": {},
   "outputs": [],
   "source": [
    ">>> try:\n",
    "...     raise Exception('spam', 'eggs')\n",
    "... except Exception as inst:\n",
    "...     print(type(inst))    # 例外インスタンスの型\n",
    "...     print(inst.args)     # .argsに格納された引数\n",
    "...     print(inst)          # __str__により引数は直接表示可能であるが、\n",
    "...                          # これは例外のサブクラスでオーバーライドされうる\n",
    "...     x, y = inst.args     # 引数のアンパック　\n",
    "...     print('x =', x)\n",
    "...     print('y =', y)\n",
    "...\n",
    "<class 'Exception'>\n",
    "('spam', 'eggs')\n",
    "('spam', 'eggs')\n",
    "x = spam\n",
    "y = eggs"
   ]
  },
  {
   "cell_type": "code",
   "execution_count": null,
   "metadata": {},
   "outputs": [],
   "source": [
    "例外が引数を伴う場合、それらは未処理例外メッセージの最後の部分(「詳細」)に表示される。\n",
    "例外ハンドラはtry節中で直接発生した例外だけでなく、try節から（間接的なものも含めて）\n",
    "コールされた関数内で発生した例外も処理する。"
   ]
  },
  {
   "cell_type": "code",
   "execution_count": 2,
   "metadata": {},
   "outputs": [
    {
     "name": "stdout",
     "output_type": "stream",
     "text": [
      "ランタイムエラーを処理します: division by zero\n"
     ]
    }
   ],
   "source": [
    "def this_fails():\n",
    "    x = 1/0\n",
    "\n",
    "try:\n",
    "    this_fails()\n",
    "except ZeroDivisionError as err:\n",
    "    print('ランタイムエラーを処理します:', err)\n"
   ]
  },
  {
   "cell_type": "code",
   "execution_count": null,
   "metadata": {},
   "outputs": [],
   "source": [
    "#例外の送出\n",
    "raise文を使って、特定の例外を発生させることができる。"
   ]
  },
  {
   "cell_type": "code",
   "execution_count": 3,
   "metadata": {},
   "outputs": [
    {
     "ename": "NameError",
     "evalue": "HiThere",
     "output_type": "error",
     "traceback": [
      "\u001b[0;31m---------------------------------------------------------------------------\u001b[0m",
      "\u001b[0;31mNameError\u001b[0m                                 Traceback (most recent call last)",
      "\u001b[0;32m<ipython-input-3-72c183edb298>\u001b[0m in \u001b[0;36m<module>\u001b[0;34m\u001b[0m\n\u001b[0;32m----> 1\u001b[0;31m \u001b[0;32mraise\u001b[0m \u001b[0mNameError\u001b[0m\u001b[0;34m(\u001b[0m\u001b[0;34m'HiThere'\u001b[0m\u001b[0;34m)\u001b[0m\u001b[0;34m\u001b[0m\u001b[0;34m\u001b[0m\u001b[0m\n\u001b[0m",
      "\u001b[0;31mNameError\u001b[0m: HiThere"
     ]
    }
   ],
   "source": [
    "raise NameError('HiThere')"
   ]
  },
  {
   "cell_type": "code",
   "execution_count": null,
   "metadata": {},
   "outputs": [],
   "source": [
    "raise の唯一の引数は送出される例外を指し示す。\n",
    "これは例外インスタンスか例外クラス (Exception を継承したクラス) でなければならない。\n",
    "例外クラスが渡された場合は、引数無しのコンストラクタが呼び出され、暗黙的にインスタンス化される:"
   ]
  },
  {
   "cell_type": "code",
   "execution_count": null,
   "metadata": {},
   "outputs": [],
   "source": [
    "raise ValueError"
   ]
  },
  {
   "cell_type": "code",
   "execution_count": null,
   "metadata": {},
   "outputs": [],
   "source": [
    "例外が発生したかどうかを判定したいだけで、その例外を処理するつもりがなければ、\n",
    "単純な形式の raise 文を使って例外を再送出させることができます:"
   ]
  },
  {
   "cell_type": "code",
   "execution_count": 5,
   "metadata": {},
   "outputs": [
    {
     "name": "stdout",
     "output_type": "stream",
     "text": [
      "例外が飛んでった！\n"
     ]
    },
    {
     "ename": "NameError",
     "evalue": "HiThere",
     "output_type": "error",
     "traceback": [
      "\u001b[0;31m---------------------------------------------------------------------------\u001b[0m",
      "\u001b[0;31mNameError\u001b[0m                                 Traceback (most recent call last)",
      "\u001b[0;32m<ipython-input-5-eccac94f9700>\u001b[0m in \u001b[0;36m<module>\u001b[0;34m\u001b[0m\n\u001b[1;32m      1\u001b[0m \u001b[0;32mtry\u001b[0m\u001b[0;34m:\u001b[0m\u001b[0;34m\u001b[0m\u001b[0;34m\u001b[0m\u001b[0m\n\u001b[0;32m----> 2\u001b[0;31m     \u001b[0;32mraise\u001b[0m \u001b[0mNameError\u001b[0m\u001b[0;34m(\u001b[0m\u001b[0;34m'HiThere'\u001b[0m\u001b[0;34m)\u001b[0m\u001b[0;34m\u001b[0m\u001b[0;34m\u001b[0m\u001b[0m\n\u001b[0m\u001b[1;32m      3\u001b[0m \u001b[0;32mexcept\u001b[0m \u001b[0mNameError\u001b[0m\u001b[0;34m:\u001b[0m\u001b[0;34m\u001b[0m\u001b[0;34m\u001b[0m\u001b[0m\n\u001b[1;32m      4\u001b[0m     \u001b[0mprint\u001b[0m\u001b[0;34m(\u001b[0m\u001b[0;34m'例外が飛んでった！'\u001b[0m\u001b[0;34m)\u001b[0m\u001b[0;34m\u001b[0m\u001b[0;34m\u001b[0m\u001b[0m\n\u001b[1;32m      5\u001b[0m     \u001b[0;32mraise\u001b[0m\u001b[0;34m\u001b[0m\u001b[0;34m\u001b[0m\u001b[0m\n",
      "\u001b[0;31mNameError\u001b[0m: HiThere"
     ]
    }
   ],
   "source": [
    "try:\n",
    "    raise NameError('HiThere')\n",
    "except NameError:\n",
    "    print('例外が飛んでった！')\n",
    "    raise"
   ]
  },
  {
   "cell_type": "code",
   "execution_count": null,
   "metadata": {},
   "outputs": [],
   "source": [
    "#ユーザー定義例外\n",
    "例外クラスの作成により、プログラムには独自の例外を含めることができる。\n",
    "通常、例外は直接関節にExceptionクラスから派生したクラスとすべきである。例"
   ]
  },
  {
   "cell_type": "code",
   "execution_count": 2,
   "metadata": {},
   "outputs": [
    {
     "name": "stdout",
     "output_type": "stream",
     "text": [
      "My exception occurred,value: 4\n"
     ]
    }
   ],
   "source": [
    "class MyError(Exception):\n",
    "    def __init__(self,value):\n",
    "        self.value = value\n",
    "    def __str__(self):\n",
    "        return repr(self.value)\n",
    "    \n",
    "try:\n",
    "    raise MyError(2*2)\n",
    "except MyError as e:\n",
    "    print('My exception occurred,value:',e.value)"
   ]
  },
  {
   "cell_type": "code",
   "execution_count": 4,
   "metadata": {},
   "outputs": [
    {
     "ename": "MyError",
     "evalue": "'oops!'",
     "output_type": "error",
     "traceback": [
      "\u001b[0;31m---------------------------------------------------------------------------\u001b[0m",
      "\u001b[0;31mMyError\u001b[0m                                   Traceback (most recent call last)",
      "\u001b[0;32m<ipython-input-4-3e3ae366964f>\u001b[0m in \u001b[0;36m<module>\u001b[0;34m\u001b[0m\n\u001b[0;32m----> 1\u001b[0;31m \u001b[0;32mraise\u001b[0m \u001b[0mMyError\u001b[0m\u001b[0;34m(\u001b[0m\u001b[0;34m'oops!'\u001b[0m\u001b[0;34m)\u001b[0m\u001b[0;34m\u001b[0m\u001b[0;34m\u001b[0m\u001b[0m\n\u001b[0m",
      "\u001b[0;31mMyError\u001b[0m: 'oops!'"
     ]
    }
   ],
   "source": [
    "raise MyError('oops!')"
   ]
  },
  {
   "cell_type": "code",
   "execution_count": null,
   "metadata": {},
   "outputs": [],
   "source": [
    "この例では、Exceptionクラスのデフォルトの__init__をオーバーライドしている。"
   ]
  },
  {
   "cell_type": "code",
   "execution_count": null,
   "metadata": {},
   "outputs": [],
   "source": [
    "例外クラスでも、他のクラスに可能なことはなんでも定義できるが、\n",
    "普通はあまり複雑なことはせず、\n",
    "例外が発生したときにハンドラがエラーに関する情報を取り出せるようにする程度にとどめる。\n",
    "複数の別個の例外を送出するようなモジュールを作成する際には、\n",
    "そのモジュールで定義されている例外の基底クラスを作成することが一般的。"
   ]
  },
  {
   "cell_type": "code",
   "execution_count": null,
   "metadata": {},
   "outputs": [],
   "source": [
    "class Error(Exception):\n",
    "    \"\"\"このモジュールの例外のベースクラス\"\"\"\n",
    "    pass\n",
    "\n",
    "class InputError(Error):\n",
    "    \"\"\"入力エラーで送出される例外.\n",
    "\n",
    "    属性:\n",
    "        expression -- エラーが起きた入力式\n",
    "        message -- エラーの説明\n",
    "    \"\"\"\n",
    "\n",
    "    def __init__(self, expression, message):\n",
    "        self.expression = expression\n",
    "        self.message = message\n",
    "\n",
    "class TransitionError(Error):\n",
    "    \"\"\"許可されない状態遷移を起こそうとする操作があれば送出される。\n",
    "\n",
    "    属性:\n",
    "        previous -- 遷移前の状態\n",
    "        next -- 移ろうとした状態\n",
    "        message -- その遷移がなぜ許可されないかの説明\n",
    "    \"\"\"\n",
    "\n",
    "    def __init__(self, previous, next, message):\n",
    "        self.previous = previous\n",
    "        self.next = next\n",
    "        self.message = message"
   ]
  },
  {
   "cell_type": "markdown",
   "metadata": {},
   "source": [
    "　例外には、標準例外と同様の「Error」で終わる名前をつけるものである。\n",
    "　標準モジュールでは、定義した関数内で起き得るエラーをレポートするために、\n",
    " 独自の例外を定義したものも多い。"
   ]
  },
  {
   "cell_type": "code",
   "execution_count": null,
   "metadata": {},
   "outputs": [],
   "source": [
    "#クリーンアップ動作の定義\n",
    "try文にはもうひとつオプションの節がある。\n",
    "これはクリーンアップ動作を定義することを意図したもので、\n",
    "全ての状況で必ず実行される。例："
   ]
  },
  {
   "cell_type": "code",
   "execution_count": 1,
   "metadata": {},
   "outputs": [
    {
     "name": "stdout",
     "output_type": "stream",
     "text": [
      "Goodbye,world!\n"
     ]
    },
    {
     "ename": "KeyboardInterrupt",
     "evalue": "",
     "output_type": "error",
     "traceback": [
      "\u001b[0;31m---------------------------------------------------------------------------\u001b[0m",
      "\u001b[0;31mKeyboardInterrupt\u001b[0m                         Traceback (most recent call last)",
      "\u001b[0;32m<ipython-input-1-8cb6e2c819a1>\u001b[0m in \u001b[0;36m<module>\u001b[0;34m\u001b[0m\n\u001b[1;32m      1\u001b[0m \u001b[0;32mtry\u001b[0m\u001b[0;34m:\u001b[0m\u001b[0;34m\u001b[0m\u001b[0;34m\u001b[0m\u001b[0m\n\u001b[0;32m----> 2\u001b[0;31m     \u001b[0;32mraise\u001b[0m \u001b[0mKeyboardInterrupt\u001b[0m\u001b[0;34m\u001b[0m\u001b[0;34m\u001b[0m\u001b[0m\n\u001b[0m\u001b[1;32m      3\u001b[0m \u001b[0;32mfinally\u001b[0m\u001b[0;34m:\u001b[0m\u001b[0;34m\u001b[0m\u001b[0;34m\u001b[0m\u001b[0m\n\u001b[1;32m      4\u001b[0m     \u001b[0mprint\u001b[0m\u001b[0;34m(\u001b[0m\u001b[0;34m'Goodbye,world!'\u001b[0m\u001b[0;34m)\u001b[0m\u001b[0;34m\u001b[0m\u001b[0;34m\u001b[0m\u001b[0m\n",
      "\u001b[0;31mKeyboardInterrupt\u001b[0m: "
     ]
    }
   ],
   "source": [
    "try:\n",
    "    raise KeyboardInterrupt\n",
    "finally:\n",
    "    print('Goodbye,world!')"
   ]
  },
  {
   "cell_type": "code",
   "execution_count": null,
   "metadata": {},
   "outputs": [],
   "source": [
    "finally節は、例外が発生しようがしましいが、try文から抜ける前には必ず実行される。\n",
    "try節内で例外が発生してexcept節で処理されなかったとき（あるいは例外がexcept節やelse節で発生したときは）は、\n",
    "finally節の実行後にこの例外の再送出が起きる。\n",
    "また、try文内の他の節からbreak,continue,return文により抜ける際にも、\n",
    "finally節はその「出口」で実行される。もう少し複雑な例："
   ]
  },
  {
   "cell_type": "code",
   "execution_count": 2,
   "metadata": {},
   "outputs": [
    {
     "name": "stdout",
     "output_type": "stream",
     "text": [
      "答えは 2.0\n",
      "finally節実行中\n"
     ]
    }
   ],
   "source": [
    "def divide(x,y):\n",
    "    try:\n",
    "        result = x/y\n",
    "    except ZeroDivisionError:\n",
    "        print(\"ゼロ除算！\")\n",
    "    else:\n",
    "        print(\"答えは\",result)\n",
    "    finally:\n",
    "        print(\"finally節実行中\")\n",
    "\n",
    "divide(2,1)"
   ]
  },
  {
   "cell_type": "code",
   "execution_count": 5,
   "metadata": {},
   "outputs": [
    {
     "name": "stdout",
     "output_type": "stream",
     "text": [
      "ゼロ除算！\n",
      "finally節実行中\n"
     ]
    }
   ],
   "source": [
    "divide(2,0)"
   ]
  },
  {
   "cell_type": "code",
   "execution_count": 6,
   "metadata": {},
   "outputs": [
    {
     "name": "stdout",
     "output_type": "stream",
     "text": [
      "finally節実行中\n"
     ]
    },
    {
     "ename": "TypeError",
     "evalue": "unsupported operand type(s) for /: 'str' and 'str'",
     "output_type": "error",
     "traceback": [
      "\u001b[0;31m---------------------------------------------------------------------------\u001b[0m",
      "\u001b[0;31mTypeError\u001b[0m                                 Traceback (most recent call last)",
      "\u001b[0;32m<ipython-input-6-c4579e894624>\u001b[0m in \u001b[0;36m<module>\u001b[0;34m\u001b[0m\n\u001b[0;32m----> 1\u001b[0;31m \u001b[0mdivide\u001b[0m\u001b[0;34m(\u001b[0m\u001b[0;34m\"2\"\u001b[0m\u001b[0;34m,\u001b[0m\u001b[0;34m\"1\"\u001b[0m\u001b[0;34m)\u001b[0m\u001b[0;34m\u001b[0m\u001b[0;34m\u001b[0m\u001b[0m\n\u001b[0m",
      "\u001b[0;32m<ipython-input-2-b4731fd6ae5a>\u001b[0m in \u001b[0;36mdivide\u001b[0;34m(x, y)\u001b[0m\n\u001b[1;32m      1\u001b[0m \u001b[0;32mdef\u001b[0m \u001b[0mdivide\u001b[0m\u001b[0;34m(\u001b[0m\u001b[0mx\u001b[0m\u001b[0;34m,\u001b[0m\u001b[0my\u001b[0m\u001b[0;34m)\u001b[0m\u001b[0;34m:\u001b[0m\u001b[0;34m\u001b[0m\u001b[0;34m\u001b[0m\u001b[0m\n\u001b[1;32m      2\u001b[0m     \u001b[0;32mtry\u001b[0m\u001b[0;34m:\u001b[0m\u001b[0;34m\u001b[0m\u001b[0;34m\u001b[0m\u001b[0m\n\u001b[0;32m----> 3\u001b[0;31m         \u001b[0mresult\u001b[0m \u001b[0;34m=\u001b[0m \u001b[0mx\u001b[0m\u001b[0;34m/\u001b[0m\u001b[0my\u001b[0m\u001b[0;34m\u001b[0m\u001b[0;34m\u001b[0m\u001b[0m\n\u001b[0m\u001b[1;32m      4\u001b[0m     \u001b[0;32mexcept\u001b[0m \u001b[0mZeroDivisionError\u001b[0m\u001b[0;34m:\u001b[0m\u001b[0;34m\u001b[0m\u001b[0;34m\u001b[0m\u001b[0m\n\u001b[1;32m      5\u001b[0m         \u001b[0mprint\u001b[0m\u001b[0;34m(\u001b[0m\u001b[0;34m\"ゼロ除算！\"\u001b[0m\u001b[0;34m)\u001b[0m\u001b[0;34m\u001b[0m\u001b[0;34m\u001b[0m\u001b[0m\n",
      "\u001b[0;31mTypeError\u001b[0m: unsupported operand type(s) for /: 'str' and 'str'"
     ]
    }
   ],
   "source": [
    "divide(\"2\",\"1\")#文字列と文字列は/の演算対象としてサポートされない"
   ]
  },
  {
   "cell_type": "code",
   "execution_count": null,
   "metadata": {},
   "outputs": [],
   "source": [
    "この通り、finally節はどの場合にも実行されている。\n",
    "また2つの文字列の除算により送出されたTypeErrorは、except節で処理されないので、\n",
    "finally節の実行後に再送出される。\n",
    "実際のアプリケーションでは、finally節は外部リソース(ファイルやネットワークのコネクションなど)を、\n",
    "その利用が成功したか否かに関わらず開放するのに便利である。"
   ]
  },
  {
   "cell_type": "code",
   "execution_count": null,
   "metadata": {},
   "outputs": [],
   "source": [
    "#オブジェクトに定義してあるクリーンアップ動作"
   ]
  },
  {
   "cell_type": "code",
   "execution_count": null,
   "metadata": {},
   "outputs": [],
   "source": [
    "for line in open(\"myfile.txt\"):\n",
    "    print(line,end=\"\")"
   ]
  },
  {
   "cell_type": "code",
   "execution_count": null,
   "metadata": {
    "collapsed": true
   },
   "outputs": [],
   "source": [
    "上記コードはファイルをオープンして内容を画面に表示するものだが、\n",
    "このコードの問題は、この部分を実行した後ファイルが開きっぱなしなことだ。\n",
    "with文を使うことによって、ファイルのようなオブジェクトを使用後すぐに\n",
    "適切な方法でクリーンアップされることを保証した形で利用できるようになる。"
   ]
  },
  {
   "cell_type": "code",
   "execution_count": null,
   "metadata": {},
   "outputs": [],
   "source": [
    "with open(\"myfile.txt\") as f:\n",
    "    for line in f:\n",
    "        print(line,end=\"\")"
   ]
  },
  {
   "cell_type": "code",
   "execution_count": null,
   "metadata": {},
   "outputs": [],
   "source": [
    "この文の実行後ファイルfは必ずクローズされる。\n",
    "行の処理中に問題が起きたとしても、常にクローズされるようになる。\n",
    "ファイルのようにクリーンアップ動作が定義してあるオブジェクトは、それぞれのドキュメントに明記されている。"
   ]
  }
 ],
 "metadata": {
  "kernelspec": {
   "display_name": "Python 3",
   "language": "python",
   "name": "python3"
  },
  "language_info": {
   "codemirror_mode": {
    "name": "ipython",
    "version": 3
   },
   "file_extension": ".py",
   "mimetype": "text/x-python",
   "name": "python",
   "nbconvert_exporter": "python",
   "pygments_lexer": "ipython3",
   "version": "3.7.1"
  }
 },
 "nbformat": 4,
 "nbformat_minor": 2
}
