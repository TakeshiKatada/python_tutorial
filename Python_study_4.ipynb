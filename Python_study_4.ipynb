{
 "cells": [
  {
   "cell_type": "code",
   "execution_count": null,
   "metadata": {},
   "outputs": [],
   "source": [
    "#9章 クラス"
   ]
  },
  {
   "cell_type": "markdown",
   "metadata": {},
   "source": [
    "#名前とオブジェクトについて\n",
    "オブジェクトには個体差があり、同一のオブジェクトに(複数のスコープから)複数の名前を割り当てることができる。\n",
    "この機能は他の言語で別名づけ(alias)として知られている.\n",
    "別名づけは変更不能型(数値、文字列、タプル)を扱う時には無視しても最初は問題ない。\n",
    "しかしながら、別名付けは、リストや辞書や他の多くの型など、変更可能な型を扱う Python コード上で驚くべき効果がある。\n",
    "別名づけはいくつかの点でポインタのように振る舞う\n",
    "例えば、オブジェクトの受け渡しは、実装上はポインタが渡されるだけなので、コストの低い操作になる。\n",
    "また、関数があるオブジェクトを引数として渡されたとき、関数の呼び出し側からオブジェクトに対する変更を見ることができる。"
   ]
  },
  {
   "cell_type": "markdown",
   "metadata": {},
   "source": [
    "#Pythonのスコープと名前空間\n",
    "名前空間とは、名前とオブジェクトの対応づけ(マッピング)のことである。\n",
    "ほとんどの名前加工はpythonディクショナリとして実装されているが、\n",
    "名前空間で重要なのは、異なる名前空間同士の名前には一切の関わりがないこと。\n",
    "2つの異なるモジュールに全く同じ名前の関数を定義しても、混同されることはない。\n",
    "使う側から見れば、「モジュール名、関数名」の形で前置きする必要がある。\n",
    "ドットに続くあらゆる名前について[属性]という言葉を使う。\n",
    "例えばr.realと書いたとき、realはオブジェクトzの属性である。厳密に言えば、\n",
    "モジュール内の名前に対する参照とは、属性の参照である。"
   ]
  },
  {
   "cell_type": "markdown",
   "metadata": {},
   "source": [
    "modname.funcnameと書いた時、\n",
    "[modname]はモジュールオブジェクトであり、[funcname]はその属性だ。\n",
    "属性は読み取り専用にも、読み書き両用にもなる。\n",
    "「modname.the_answer = 42」などと書けるのである。\n",
    "読み書き両用の属性は、del文による削除の可能である。例えば、\n",
    "del modname.the_answerと書けばmodnameというオブジェクトから属性the_answerが削除される。"
   ]
  },
  {
   "cell_type": "markdown",
   "metadata": {},
   "source": [
    "ビルトイン名の入った名前空間は、Pythonインタープリタの起動とともに作られ、終了まで削除されない。\n",
    "モジュールのグローバル名前空間は、モジュール定義の読み込み時に作られる。\n",
    "普通はこれもインタープリタの終了まで保持される。\n",
    "関数のローカル名前空間は、関数がコールされた時作られ、関数から戻ったり、関数内で処理されない例外を送出した時削除される"
   ]
  },
  {
   "cell_type": "markdown",
   "metadata": {},
   "source": [
    "　スコープとは、ある名前空間から直接アクセスできる、プログラムテキスト上の範囲のことである。\n",
    "「直接アクセス」とは、名前空間中の名前を無条件の参照によって見つけることである。\n",
    "入れ子には3つスコープが存在する。\n",
    "　もっとも内側にあり、最初に検索されるのは、ローカル名の入ったスコープ。\n",
    "　これを取りかこむ関数がある場合、その名前空間も最内のスコープかた純に検索される。ここには非ローカル、かつ非グローバルな名前が入ってる。\n",
    "　最初から2番目に検索されるスコープには、今いるモジュールのグローバルな名前が入っている。\n",
    "　もっとも外側のスコープ（最後に検索される）は、ビルトイン名の入った名前空間である。"
   ]
  },
  {
   "cell_type": "markdown",
   "metadata": {},
   "source": [
    "グローバルと宣言された名前では、参照と代入が中間のスコープ（モジュールのグローバル名が入っている部分）に直接行われる。\n",
    "これ以外の変数で最内のスコープより外側にあるものには、nonlocal文を使うことで再結合できる。\n",
    "nonlozalが宣言されていなければ、こうした変数は読み取り専用になる\n",
    "（こうした変数に書き込もうとすると、最内のスコープに同名のローカル変数が新たに生成されるだけだ。外側の変数は変更されない。）。"
   ]
  },
  {
   "cell_type": "markdown",
   "metadata": {},
   "source": [
    "通常、ローカルスコープは (プログラムテキスト上の) 現在の関数のローカルな名前を参照する。関数の外側では、ローカルスコープはグローバルな名前空間と同じ名前空間、モジュールの名前空間を参照する。クラス定義では、ローカルスコープの中にもう一つ名前空間が置かれる。\n",
    "\n",
    "スコープはテキスト上で決定されていると理解することが重要。モジュール内で定義される関数のグローバルなスコープは、関数がどこから呼び出されても、どんな別名をつけて呼び出されても、そのモジュールの名前空間になる。反対に、実際の名前の検索は実行時に動的に行われます ーーーとはいえ、言語の定義は、\"コンパイル\" 時の静的な名前解決の方向に進化しているので、動的な名前解決に頼ってはいけない！ (事実、ローカルな変数は既に静的に決定される。)\n",
    "\n",
    "Python 特有の癖として、代入を行うと ーー どの global 文も有効でない場合は ーー 名前がいつも最も内側のスコープに入るというものがあります。代入はデータのコピーを行和ない ーーー 単に名前をオブジェクトに結びつける (bind) だけ。オブジェクトの削除でも同じ: del x は、 x をローカルスコープが参照している名前空間から削除する。実際、新たな名前を導入する操作は全てローカルスコープを用いる。とりわけ、 import 文や関数定義は、モジュールや関数の名前をローカルスコープに結び付ける。\n",
    "\n",
    "global 文を使うと、特定の変数がグローバルスコープに存在し、そこで再束縛されることを指示できる。 nonlocal 文は、特定の変数が外側のスコープに存在し、そこで再束縛されることを指示する。"
   ]
  },
  {
   "cell_type": "code",
   "execution_count": 1,
   "metadata": {},
   "outputs": [
    {
     "name": "stdout",
     "output_type": "stream",
     "text": [
      "After local assignment: test spam\n",
      "After nonlocal assignment: nonlocal spam\n",
      "After global assignment: nonlocal spam\n",
      "In global scope: global spam\n"
     ]
    }
   ],
   "source": [
    "#スコープと名前空間の例\n",
    "def scope_test():\n",
    "    def do_local():\n",
    "        spam = \"local spam\"\n",
    "    def do_nonlocal():\n",
    "        nonlocal spam\n",
    "        spam = \"nonlocal spam\"\n",
    "    def do_global():\n",
    "        global spam\n",
    "        spam = \"global spam\"\n",
    "    spam = \"test spam\"\n",
    "    do_local()\n",
    "    print(\"After local assignment:\", spam)\n",
    "    do_nonlocal()\n",
    "    print(\"After nonlocal assignment:\", spam)\n",
    "    do_global()\n",
    "    print(\"After global assignment:\", spam)\n",
    "    \n",
    "scope_test()\n",
    "print(\"In global scope:\", spam)"
   ]
  },
  {
   "cell_type": "markdown",
   "metadata": {},
   "source": [
    "上記の通り、ローカル代入（これがデフォルト操作）は、scope_test内でのspamのバインディングを変化させない。\n",
    "nonlocal代入はscope_testのspamのバインディングを変更し、global代入はモジュールレベルでのバインディングを変更している。\n",
    "　global代入の実行以前には、モジュールレベルのspamにはバインディングがなかったこともポイント。"
   ]
  },
  {
   "cell_type": "code",
   "execution_count": null,
   "metadata": {},
   "outputs": [],
   "source": [
    "#はじめてのクラス\n",
    "#クラス定義の構文\n",
    "クラス定義の一番簡単な形はこのようになる："
   ]
  },
  {
   "cell_type": "code",
   "execution_count": null,
   "metadata": {},
   "outputs": [],
   "source": [
    "class ClassName:\n",
    "    <文1>\n",
    "    .\n",
    "    .\n",
    "    .\n",
    "    <文N>"
   ]
  },
  {
   "cell_type": "markdown",
   "metadata": {},
   "source": [
    "　関数定義(def)と同じように、クラス定義を有効化するには１度実行する必要がある。\n",
    "また、クラス定義をif文の枝の中や関数内で行うことも理論的には可能である。\n",
    "　クラス定義に入ると新しい名前空間が生成され、ローカルスコープとして使われるー\n",
    " ーゆえにローカル変数への代入は、すべてこの新しい名前空間に行われる。\n",
    " クラス定義中で関数が定義された時も同じで、関数名はここに結合される。\n",
    " クラス定義から正常に(末尾で)抜けるとクラスオブジェクトが作られる。これは基本的に、\n",
    " クラス定義で作られた名前空間の内容を含むラッパーに過ぎない。\n",
    " 続いて元のローカルスコープ(クラス定義に入る前に有効だったもの)が復活し、\n",
    " クラス定義ヘッダで命名した名前(この例ではClassname)とクラスオブジェクトがこの中で結合される。"
   ]
  },
  {
   "cell_type": "code",
   "execution_count": null,
   "metadata": {},
   "outputs": [],
   "source": [
    "#クラスオブジェクト\n",
    "クラスオブジェクトは2種類の操作をサポートする。\n",
    "属性参照とインスタンス化である。\n",
    "属性参照 (attribute reference) は、Python におけるすべての属性参照で使われている標準的な構文、 \n",
    "obj.name を使用する。クラスオブジェクトが生成された際にクラスの名前空間に\n",
    "あった名前すべてが有効な属性名です。従って、以下のようなクラス定義では:"
   ]
  },
  {
   "cell_type": "code",
   "execution_count": 1,
   "metadata": {},
   "outputs": [],
   "source": [
    "class MyClass:\n",
    "    \"\"\"A simple example class\"\"\"\n",
    "    i = 12345\n",
    "\n",
    "    def f(self):\n",
    "        return 'hello world'"
   ]
  },
  {
   "cell_type": "raw",
   "metadata": {},
   "source": [
    "Myclass.iとMyClass.fが属性参照として有効であり、\n",
    "それぞれ整数オブジェクトと関数オブジェクトを返すことになる。\n",
    "クラス属性への代入も可能なので、MyClass.iの値は代入により変更できる。\n",
    "__doc__も有効な属性で、これはクラスのdocstringを返す。この場合は「A sinmle example class」である。"
   ]
  },
  {
   "cell_type": "code",
   "execution_count": null,
   "metadata": {},
   "outputs": [],
   "source": [
    "クラスのインスタンス化には関数表記法が使われる。クラスオブジェクトを、\n",
    "引数を持たずインスタンスを返す関数とみなせばいい。"
   ]
  },
  {
   "cell_type": "code",
   "execution_count": 2,
   "metadata": {},
   "outputs": [],
   "source": [
    "x = MyClass()"
   ]
  },
  {
   "cell_type": "code",
   "execution_count": null,
   "metadata": {},
   "outputs": [],
   "source": [
    "これでこのクラスの新しいインスタンスが生成され、ローカル変数Xに代入された。\n",
    "インスタンス化の操作(クラスオブジェクトの「コール」)は、空のオブジェクトを生成する。\n",
    "多くのクラスでは、生成するオブジェクトのインスタンスが何らかの初期状態にカスタマイズしてある\n",
    "ことが望ましい。この為クラスには__init__()という特殊メソッドが定義できるようになっている。"
   ]
  },
  {
   "cell_type": "code",
   "execution_count": 3,
   "metadata": {},
   "outputs": [],
   "source": [
    "def __init__(self):\n",
    "    sejf.data = []"
   ]
  },
  {
   "cell_type": "code",
   "execution_count": null,
   "metadata": {},
   "outputs": [],
   "source": [
    "クラスに__init__()メソッドが定義してあると、新規生成されたインスタンスに対して自動的に__init__()がコールされる。\n",
    "今回の例では次のコードだけで初期化済みのインスタンスが得られる。"
   ]
  },
  {
   "cell_type": "code",
   "execution_count": null,
   "metadata": {},
   "outputs": [],
   "source": [
    "x = MyClass()"
   ]
  },
  {
   "cell_type": "code",
   "execution_count": null,
   "metadata": {},
   "outputs": [],
   "source": [
    "より大きな柔軟性を持たせるために、 __init__() メソッドに複数の引数をもたせることができる。\n",
    "その場合、次の例のように、クラスのインスタンス生成操作に渡された引数は __init__() に渡される。例えば、"
   ]
  },
  {
   "cell_type": "code",
   "execution_count": 4,
   "metadata": {},
   "outputs": [
    {
     "data": {
      "text/plain": [
       "(3.0, -4.5)"
      ]
     },
     "execution_count": 4,
     "metadata": {},
     "output_type": "execute_result"
    }
   ],
   "source": [
    "class Complex:\n",
    "    def __init__(self, realpart, imagpart):\n",
    "        self.r = realpart\n",
    "        self.i = imagpart\n",
    "x = Complex(3.0, -4.5)\n",
    "x.r, x.i"
   ]
  },
  {
   "cell_type": "code",
   "execution_count": 5,
   "metadata": {},
   "outputs": [
    {
     "name": "stdout",
     "output_type": "stream",
     "text": [
      "16\n"
     ]
    }
   ],
   "source": [
    "#インスタンスオブジェクト\n",
    "インスタンスオブジェクトが理解できる操作は属性参照のみである。\n",
    "属性名としては、データ属性とメソッドの2種類が有効だ。\n",
    "　データ属性は宣言する必要がない。ローカル変数同様代入すれば存在を始める。\n",
    "例えばXを先ほどの例のMyClassのインスタンスとして、以下のコードは16を表示し、痕跡を残さない\n",
    "\n",
    "x.counter = 1\n",
    "while x.counter < 10:\n",
    "    x.counter = x.counter * 2\n",
    "print(x.counter)\n",
    "del x.counter"
   ]
  },
  {
   "cell_type": "code",
   "execution_count": null,
   "metadata": {},
   "outputs": [],
   "source": [
    "もうひとつのインスタンス属性参照がメソッドだ。メソッドとは、\n",
    "オブジェクトに属した関数である。\n",
    "インスタンスオブジェクトで有効なメソッド名は、そのクラスによる。\n",
    "定義により、クラスの全ての関数オブジェクトである属性がインスタンスオブジェクトの妥当なメソッド名に決まる。\n",
    "上記例で言えば、MyClass.fは関数なので、x.fは有効なメソッド参照となるし、\n",
    "MyClass.iはそうでないのでx.iも違う。ただし、\n",
    "x.fはMyClass.fと同じものではないーーそれはメソッドオブジェクトであり、関数オブジェクトではない。"
   ]
  },
  {
   "cell_type": "markdown",
   "metadata": {},
   "source": [
    "#メソッドオブジェクト\n",
    "普通、メソッドは結合後すぐ実行される。\n",
    "x.f()\n",
    "MyClassの例では、この文字列は「hello world」を返す。しかしメソッドは直ちに実行しなくてもよい。\n",
    "x.fはメソッドオブジェクトであり、どこかに格納して後からコールすることができるのだ。\n",
    "xf = x.f\n",
    "while True:\n",
    "    print(xf())\n",
    "これは時間の果てまで「helloworld」をプリントし続ける。\n",
    "上記例で、x.f()の関数定義では引数が指定されていたにも関わらず、x.f()が引数なしでコールされている。\n",
    "引数を要求する関数に引数を渡さなければ例外が出るはずだが、\n",
    "メソッドの特殊性なのだが、第1引数としてインスタンスのオブジェクトが渡されることにある。\n",
    "上記例で言えば、x.f()のコールは、MyClass.f(x)と厳密に等価である。\n",
    "n個の引数でメソッドをコールすることは、引数リストの最初にメソッドオブジェクトを挿入して作った\n",
    "n+1個の引数リストを渡して当該関数をコールすることと等価である。"
   ]
  },
  {
   "cell_type": "markdown",
   "metadata": {},
   "source": [
    "#クラス変数とインスタンス変数\n",
    "一般的に、インスタンス変数はそれぞれのインスタンスについて固有のデータのためのもので、\n",
    "クラス変数はそのクラスのすべてのインスタンスによって共有される属性やメソッドのためのもの"
   ]
  },
  {
   "cell_type": "code",
   "execution_count": 2,
   "metadata": {},
   "outputs": [
    {
     "data": {
      "text/plain": [
       "'canine'"
      ]
     },
     "execution_count": 2,
     "metadata": {},
     "output_type": "execute_result"
    }
   ],
   "source": [
    "class Dog:\n",
    "\n",
    "    kind = 'canine'         # どのインスタンスも持つことになるクラス変数\n",
    "\n",
    "    def __init__(self, name):\n",
    "        self.name = name    # インスタンスごとの固有のインスタンス変数\n",
    "\n",
    "d = Dog('Fido')\n",
    "e = Dog('Buddy')\n",
    "d.kind  #全ての犬に共通"
   ]
  },
  {
   "cell_type": "code",
   "execution_count": 5,
   "metadata": {},
   "outputs": [
    {
     "data": {
      "text/plain": [
       "'canine'"
      ]
     },
     "execution_count": 5,
     "metadata": {},
     "output_type": "execute_result"
    }
   ],
   "source": [
    "e.kind  #全ての犬に共通"
   ]
  },
  {
   "cell_type": "code",
   "execution_count": 3,
   "metadata": {},
   "outputs": [
    {
     "data": {
      "text/plain": [
       "'Fido'"
      ]
     },
     "execution_count": 3,
     "metadata": {},
     "output_type": "execute_result"
    }
   ],
   "source": [
    "d.name  #dに固有"
   ]
  },
  {
   "cell_type": "code",
   "execution_count": 4,
   "metadata": {},
   "outputs": [
    {
     "data": {
      "text/plain": [
       "'Buddy'"
      ]
     },
     "execution_count": 4,
     "metadata": {},
     "output_type": "execute_result"
    }
   ],
   "source": [
    "e.name  #eに固有"
   ]
  },
  {
   "cell_type": "code",
   "execution_count": null,
   "metadata": {},
   "outputs": [],
   "source": [
    "共有データはリストや辞書のような mutable オブジェクトが関与すると驚くべき効果を持ち得る。\n",
    "例えばtricksというリストはクラス変数にすべきではない。\n",
    "なぜなら全てのDogインスタンスでただ1つのリストが共有されてしまうからだ。"
   ]
  },
  {
   "cell_type": "code",
   "execution_count": 7,
   "metadata": {},
   "outputs": [
    {
     "data": {
      "text/plain": [
       "['roll over', 'play dead']"
      ]
     },
     "execution_count": 7,
     "metadata": {},
     "output_type": "execute_result"
    }
   ],
   "source": [
    "class Dog:\n",
    "\n",
    "    tricks = []             # クラス変数の使い方を間違えてる\n",
    "\n",
    "    def __init__(self, name):\n",
    "        self.name = name\n",
    "\n",
    "    def add_trick(self, trick):\n",
    "        self.tricks.append(trick)\n",
    "        \n",
    "d = Dog('Fido')\n",
    "e = Dog('Buddy')\n",
    "d.add_trick('転がる')\n",
    "e.add_trick('死んだふり')\n",
    "d.tricks  #全てのDogが共有してしまっている"
   ]
  },
  {
   "cell_type": "code",
   "execution_count": 8,
   "metadata": {},
   "outputs": [
    {
     "data": {
      "text/plain": [
       "['転がる']"
      ]
     },
     "execution_count": 8,
     "metadata": {},
     "output_type": "execute_result"
    }
   ],
   "source": [
    "class Dog:\n",
    "\n",
    "    def __init__(self, name):\n",
    "        self.name = name\n",
    "        self.tricks = []    # それぞれの犬に空リストを生成\n",
    "\n",
    "    def add_trick(self, trick):\n",
    "        self.tricks.append(trick)\n",
    "\n",
    "d = Dog('Fido')\n",
    "e = Dog('Buddy')\n",
    "d.add_trick('転がる')\n",
    "e.add_trick('死んだふり')\n",
    "d.tricks"
   ]
  },
  {
   "cell_type": "code",
   "execution_count": 9,
   "metadata": {},
   "outputs": [
    {
     "data": {
      "text/plain": [
       "['死んだふり']"
      ]
     },
     "execution_count": 9,
     "metadata": {},
     "output_type": "execute_result"
    }
   ],
   "source": [
    "e.tricks"
   ]
  },
  {
   "cell_type": "code",
   "execution_count": null,
   "metadata": {},
   "outputs": [],
   "source": [
    "#9.4 その他いろいろ\n",
    "データ属性は同名メソッドをオーバーライドする。だから、不慮の名前衝突を防ぐために\n",
    "メソッド名は頭文字を大文字にするなどの規約を設けるとよい。\n",
    "データ属性は普通のユーザーからも、同じように参照できる。\n",
    "実際pythonでは、データ隠蔽を強制できるものが存在しない。\n",
    "ただし、C言語の拡張を使えばできる。\n",
    "クライアントはデータ属性を慎重に扱わなければならない。\n",
    "名前衝突さえ回避できるなら、クライアントはメソッドを損なうことなく独自のデータ属性を\n",
    "インスタンスオブジェクトに追加できる。命名規約を大事に。\n",
    "メソッドからデータ属性を参照する短縮形はない。\n",
    "だからこそ、メソッドのコードを眺めたときに、ローカル変数とインスタンス変数が混同しない。\n",
    "メソッドの第一引数はしばしばselfとされる。pythonにおいてselfに特別な意味はないが、\n",
    "他のプログラマやクラスブラウザの類がこの習慣に依存しているかもしれないことに注意。"
   ]
  },
  {
   "cell_type": "code",
   "execution_count": null,
   "metadata": {},
   "outputs": [],
   "source": [
    "　クラスオブジェクトである関数オブジェクは全て、インスタンスのメソッドを定義する、\n",
    "    関数定義がプログラムテキスト上でクラス定義中にあることは必須ではない。\n",
    "    関数オブジェクトをクラスのローカル変数に代入することも可能だ。例：\n",
    "def f1(sejf, x, y):\n",
    "    return min(x, x+y)\n",
    "\n",
    "class C:\n",
    "    f = f1\n",
    "    def g(self):\n",
    "        return 'hello world'\n",
    "    h = g\n",
    "このときf,g,hは全て、関数オブジェクトを参照する属性であり、\n",
    "Cのインスタンスでは、全てがメソッドとなる。ただしこのように書くとプログラムを読む人が混乱するだけなので注意。\n",
    "メソッドは、他のメソッドをコールすることができる。引数selfのメソッド属性を使う：\n",
    "class Bag:\n",
    "    def __init__(sejf):\n",
    "        self.data = []\n",
    "    def add(self, x):\n",
    "        self.data.append(x)\n",
    "    def addtwice(self,x):\n",
    "        self.add(x)\n",
    "        self.add(x)"
   ]
  },
  {
   "cell_type": "code",
   "execution_count": null,
   "metadata": {},
   "outputs": [],
   "source": [
    "#継承\n",
    "派生クラスの定義\n",
    "class DerivedClassName(BassClassName):\n",
    "    <文1>\n",
    "    .\n",
    "    <文N>\n",
    "    \n",
    "BaseClassName(基底クラス名)は、この派生クラス定義が存在するスコープで定義してある名前であること。\n",
    "この場所には、他の任意の指揮を入れることもできる。\n",
    "これは、基底クラスが他のモジュールで定義してある場合に便利だ：\n",
    "class DerivedClassName(modname.BaseClassName):\n",
    "    \n",
    "派生クラス定義の実行過程はベースクラスと同じだ。クラスオブジェクトが構築されるとき、\n",
    "基底クラスが記憶される。これは属性参照の解決に使われる。\n",
    "つまり、リクエストされた属性が派生クラスになかったときに、基底クラスが検索される。\n",
    "このルールは、基底クラスもまた他の派生クラスであるなら、再帰的に適用される。\n",
    "　派生クラスのインスタンス化に特別なことはない。DerivedClassName()でインスタンスが生成される。\n",
    "    メソッド参照も通常の属性参照同様にクラス属性→基底クラス属性と検索され、\n",
    "これにより関数オブジェクトが生じればメソッド参照が有効になる。\n",
    "派生クラスは基底クラスのメソッドをオーバーライドできる。\n",
    "メソッドがオブジェクト内の別メソッドをコールする際に特別な権限があるわけではないため、\n",
    "基底クラスのメソッドが自分のクラスの別メソッドをコールしようとするときに、\n",
    "それをオーバーライドしている派生クラスのメソッドをコールさせることができる。例："
   ]
  },
  {
   "cell_type": "code",
   "execution_count": 1,
   "metadata": {},
   "outputs": [
    {
     "name": "stdout",
     "output_type": "stream",
     "text": [
      "私の名前はbase.aです。base.bをコールします\n",
      "私の名前はbase.bです。der.bでオーバーライドされます\n"
     ]
    }
   ],
   "source": [
    "class base():\n",
    "    def a(self):\n",
    "        print('私の名前はbase.aです。base.bをコールします')\n",
    "        self.b()\n",
    "    def b(self):\n",
    "        print('私の名前はbase.bです。der.bでオーバーライドされます')\n",
    "        \n",
    "class der(base):\n",
    "    def b(self):\n",
    "        print('私はder.bです')\n",
    "        \n",
    "b=base()\n",
    "d=der()\n",
    "b.a()"
   ]
  },
  {
   "cell_type": "code",
   "execution_count": 2,
   "metadata": {},
   "outputs": [
    {
     "name": "stdout",
     "output_type": "stream",
     "text": [
      "私の名前はbase.aです。base.bをコールします\n",
      "私はder.bです\n"
     ]
    }
   ],
   "source": [
    "d.a()"
   ]
  },
  {
   "cell_type": "code",
   "execution_count": null,
   "metadata": {},
   "outputs": [],
   "source": [
    "基底クラスのメソッドを直接呼ぶ簡単な方法がある。BaseClassName.methodname(self,arguments)とコールすればよい。\n",
    "これはクライアントからも便利なことがままある。\n",
    "pythonには、継承周りで使える2つのビルトイン関数がある。\n",
    "インスタンスの型をチェックするにはisinstance()を使う。\n",
    "例えばisinstance(obj, int)では、obj.__class__がintまたはその派生クラスである場合にのみTrueが帰る。\n",
    "クラス継承のチェックにissubclass()を使う。issubclass(bool,int)はTrueが返るが、これはboolがintのサブクラスであるからだ。\n",
    "issubclass(float,int)は、floatがintのサブクラスでないためFalseとなる。"
   ]
  },
  {
   "cell_type": "code",
   "execution_count": null,
   "metadata": {},
   "outputs": [],
   "source": [
    "#多重継承\n",
    "pythonは多重継承の一形態もサポートしている。\n",
    "class DerivedClassName(Base1, Base2, Base3):\n",
    "    <statement-1>\n",
    "    .\n",
    "    .\n",
    "    .\n",
    "    <statement-N>"
   ]
  },
  {
   "cell_type": "code",
   "execution_count": null,
   "metadata": {},
   "outputs": [],
   "source": [
    "親クラスから継承した属性の探索順序は、\n",
    "探索している属性がDerivedClassNameになければ次のBase1を、Base1になければBase1の基底クラスを\n",
    "そこにもなければBase2を探索というふうになる。\n",
    "実際には、それよりもう少しだけ複雑。\n",
    "協調的な super() の呼び出しのためにメソッドの解決順序は動的に変更され。\n",
    "このアプローチは他の多重継承のある言語で call-next-method として知られており、\n",
    "単一継承しかない言語の super 呼び出しよりも強力。"
   ]
  },
  {
   "cell_type": "code",
   "execution_count": null,
   "metadata": {},
   "outputs": [],
   "source": [
    "#プライベート変数\n",
    "オブジェクト内部からしかアクセスできない「プライベート」インスタンス変数はPythonにはない。\n",
    "とはいうものの、Pythonコード守られる習慣がある。\n",
    "アンダースコアで始まる名前(_spamなど)はAPIの非公開部分である、というものだ。\n",
    "（これは関数でもメソッドでもデータメンバであっても同じだ）\n",
    "これらは、予告なく変更されるかもしれない実装の詳細として扱われるべき。\n",
    "\n",
    "クラスのプライベートメンバについて適切なケース（サブクラスで定義された名前との衝突を避ける）があるので、\n",
    "名前マングリング(name mangling)という限定されたサポートがある。\n",
    "これは__spamのような形の識別子(2つ以上のアンダースコアが前置きされ、後置きされるアンダースコアが\n",
    "1つ以下のもの)を全て_classname__spamの形に字句的に置き換える、というもの。\n",
    "classnameの部分は、現在のクラス名から前置きされたアンダースコア(存在すれば)を除いたものとなる。\n",
    "このマングリングはクラス内で定義されたものであれば必ず行われ、識別子の構文的な地位は考慮されない。\n",
    "　名前マングリングは、クラス内でのメソッド呼び出しを壊すことなく\n",
    "サブクラスにメソッドオーバーライドをさせやすくする。例："
   ]
  },
  {
   "cell_type": "code",
   "execution_count": null,
   "metadata": {},
   "outputs": [],
   "source": [
    "class Mapping:\n",
    "    def __init__(self, iterable):\n",
    "        self.items_list = []\n",
    "        self.__update(iterable)\n",
    "\n",
    "    def update(self, iterable):\n",
    "        for item in iterable:\n",
    "            self.items_list.append(item)\n",
    "\n",
    "    __update = update   # 上のupdate()メソッドのプライベートコピー\n",
    "\n",
    "class MappingSubclass(Mapping):\n",
    "\n",
    "    def update(self, keys, values):\n",
    "        # update()の新しいシグネチャを提供しつつ\n",
    "        # 既存の__init__()は破壊せずに利用できる\n",
    "        for item in zip(keys, values):\n",
    "            self.items_list.append(item)"
   ]
  },
  {
   "cell_type": "code",
   "execution_count": null,
   "metadata": {},
   "outputs": [],
   "source": [
    "このマンダリング規則が、アクシデントを防ぐことしかほぼ考えてないものであることに注意。\n",
    "プライベートとみなされている変数にアクセスしたり変更したりること自体は可能だ。\n",
    "これはデバッガなど、一定の状況下では有用なものになりうる。\n",
    "　exec()やeval()に渡されたコードでは呼び出しクラスが現在のクラスとみなされないことに注意。\n",
    "これはglobal文の有効範囲に似ている。\n",
    "global文の有効範囲も、一緒にバイトコンパイルされたコードに限られる。"
   ]
  },
  {
   "cell_type": "code",
   "execution_count": null,
   "metadata": {},
   "outputs": [],
   "source": [
    "#残り物あれこれ\n",
    "pascalの「レコード」やCの「構造体」など、名前のついたデータアイテムを集めておくデータ型が便利なことがある。\n",
    "からのクラス定義を使うのがうまい:\n",
    "    \n",
    "class Employee:\n",
    "    pass\n",
    "\n",
    "john = Employee()#空の従業員レコードを生成\n",
    "\n",
    "#レコードのフィールドを埋めていく\n",
    "john.name = \"John Doe\"\n",
    "john.dept = \"computer lab\"\n",
    "john.salary = 1000"
   ]
  },
  {
   "cell_type": "code",
   "execution_count": null,
   "metadata": {},
   "outputs": [],
   "source": [
    "特定のデータ型を想定したPythonコードに、そのデータ型のメソッドをエミュレートした\n",
    "クラスを渡すことはよくある。例えば、文字列バッファからデータを得るクラスにread()およびreadline()メソッドを\n",
    "定義すると、ファイルオブジェクトからデータを受け取って整形する関数に、引数として渡せるようにする。\n",
    "\n",
    "インスタンスメソッドオブジェクトにも属性がある。メソッドm()に対して\n",
    "インスタンスオブジェクトはm.__self__であり、メソッドに対応した関数オブジェクトはm.__func__である。"
   ]
  },
  {
   "cell_type": "code",
   "execution_count": null,
   "metadata": {},
   "outputs": [],
   "source": [
    "#例外もまたクラスである\n",
    "ユーザー定義例外もクラスとされている。\n",
    "この機構を利用すれば、拡張可能な階層型の例外体系が作れる。\n",
    "　raise分の有効な(セマンティクスの)形を、新たに2つあげよう：\n",
    "\n",
    "raise Class\n",
    "\n",
    "raise Instance\n",
    "\n",
    "最初の形式では、Classは必ずTypeまたはその派生クラスのインスタンスでなければならない。\n",
    "第2の形式は以下を短縮形にしたものだ：\n",
    "raise Class()\n",
    " except節と発生した例外の合致は、節に書かれたクラスが発生例外の基底クラスまたは\n",
    "    同じクラスであるときに起きる(逆ではないーー派生クラスが書いてあるexcept節は基底クラスの例外と合致を起こさない)。\n",
    "    例；\n",
    "class B(Exception):\n",
    "    pass\n",
    "class C(B):\n",
    "    pass\n",
    "class D(C):\n",
    "    pass\n",
    "\n",
    "for cla in [B,C,D]:\n",
    "    try:\n",
    "        raise cls()\n",
    "    except D:\n",
    "        print(\"D\")\n",
    "    except C:\n",
    "        print(\"C\")\n",
    "    except B:\n",
    "        print(\"B\")\n",
    "except節の並びが逆であれば(except Bから先に書くと)、B,B,Bと表示されることに注意。\n",
    "最初にマッチしたexcept節が走るからである。\n",
    "未処理例外のエラーメッセージでは、最初に例外のクラス名、次にコロンとスペース、\n",
    "最後にインスタンスがビルトイン関数str()で文字列変換されたものという順に表示される。"
   ]
  },
  {
   "cell_type": "code",
   "execution_count": null,
   "metadata": {},
   "outputs": [],
   "source": [
    "#反復子(iterator)\n",
    "コンテナオブジェクトの多くはfor文でループできる：\n",
    "for element in [1,2,3]:\n",
    "    print(element)\n",
    "for element in [1,2,3]:\n",
    "    print(element)\n",
    "for key in {'one'1,'two':2}:\n",
    "    print(key)\n",
    "for char in \"123\":\n",
    "    print(char)\n",
    "for line in open(\"myfile.txt\"):\n",
    "    print(line, end='')\n",
    "\n",
    "このアクセススタイルはクリアで簡潔で便利が。反復子(iterator)の利用はPythonを征服し、統一した。\n",
    "舞台裏では、for文はコンテナオブジェクトにiter()をコールするようになっている。\n",
    "この関数は反復しオブジェクトを返し、反復しオブジェクトにはコンテナの要素に一つずつアクセスする__next__()メソッドが定義してある。\n",
    "要素が尽きると、__next__()メソッドは、ビルトイン関数next()をコールすることでコールできる。動作例："
   ]
  },
  {
   "cell_type": "code",
   "execution_count": null,
   "metadata": {},
   "outputs": [],
   "source": [
    ">>> s = 'abc'\n",
    ">>> it = iter(s)\n",
    ">>> it\n",
    "<iterator object at 0x00A1DB50>\n",
    ">>> next(it)\n",
    "'a'\n",
    ">>> next(it)\n",
    "'b'\n",
    ">>> next(it)\n",
    "'c'\n",
    ">>> next(it)\n",
    "Traceback (most recent call last):\n",
    "  File \"<stdin>\", line 1, in <module>\n",
    "    next(it)\n",
    "StopIteration"
   ]
  },
  {
   "cell_type": "code",
   "execution_count": 6,
   "metadata": {},
   "outputs": [],
   "source": [
    "\"\"\"\n",
    "反復子プロトコルの裏のメカニズムを見てしまえば、自作のクラスに反復しの振る舞いを追加するのは簡単だ。\n",
    "__next__()メソッドのついたオブジェクトを返す__iter__()メソッドを定義すれば良い。\n",
    "すでに__next__()が定義してあるクラスでは、__iter__()はselfを返すだけで良い:\n",
    "\"\"\"\n",
    "class Reverse:\n",
    "    #\"シーケンスを逆順にループする反復子\"\n",
    "    def __init__(self, data):\n",
    "        self.data = data\n",
    "        self.index = len(data)\n",
    "\n",
    "    def __iter__(self):\n",
    "        return self\n",
    "    \n",
    "    def __next__(self):\n",
    "        if self.index == 0:\n",
    "            raise StopIteration\n",
    "        self.index = self.index - 1\n",
    "        return self.data[self.index]"
   ]
  },
  {
   "cell_type": "code",
   "execution_count": 7,
   "metadata": {},
   "outputs": [
    {
     "data": {
      "text/plain": [
       "<__main__.Reverse at 0x10eb2b198>"
      ]
     },
     "execution_count": 7,
     "metadata": {},
     "output_type": "execute_result"
    }
   ],
   "source": [
    "rev = Reverse('spam')\n",
    "iter(rev)"
   ]
  },
  {
   "cell_type": "code",
   "execution_count": 8,
   "metadata": {},
   "outputs": [
    {
     "name": "stdout",
     "output_type": "stream",
     "text": [
      "m\n",
      "a\n",
      "p\n",
      "s\n"
     ]
    }
   ],
   "source": [
    "for char in rev:\n",
    "    print(char)"
   ]
  },
  {
   "cell_type": "code",
   "execution_count": 11,
   "metadata": {},
   "outputs": [],
   "source": [
    "#ジェネレータ\n",
    "\"\"\"\n",
    "ジェネレータは反復子を作るためのシンプルでパワフルなツールだ。普通の関数と同じように書くが、\n",
    "データを返す部分でyieldを使う。next()がコールされるたびに、ジェネレータは毎回抜けたところに戻る\n",
    "（最後に実行された文と、全てのデータの値を記憶している）。ジェネレータは簡単：\n",
    "\"\"\"\n",
    "def reverse(data):\n",
    "    for index in range(len(data)-1,-1,-1):\n",
    "        yield data[index]\n",
    "        \n",
    "    for char in reverse('golf'):\n",
    "        print(char)"
   ]
  },
  {
   "cell_type": "code",
   "execution_count": null,
   "metadata": {},
   "outputs": [],
   "source": [
    "ジェネレータでできることは、前のクラスベースの反復しにもできる。\n",
    "ジェネレータがこれほどコンパクトなのは、__iter__()と__next__()の\n",
    "両メソッドが自動的に生成されるからだ。\n",
    "　鍵となる機能はもうひとつある。それはローカル変数と実行状態が、コール間で自動保存されていることだ。\n",
    "これにより関数が簡単にかけるようになり、\n",
    "しかもself.indexとself.dataのようなインスタンス変数を使ったアプローチよりも、はるかに鮮明。\n",
    "自動的なのはメソッド生成とプログラム状態の保存だけではない。\n",
    "ジェネレータは終了時に、自動的にStopIterationを送出する。こうした機能の組み合わせが、\n",
    "反復子を書くのに要する努力を普通の関数と変わらなくしているのである。"
   ]
  },
  {
   "cell_type": "code",
   "execution_count": null,
   "metadata": {},
   "outputs": [],
   "source": []
  }
 ],
 "metadata": {
  "kernelspec": {
   "display_name": "Python 3",
   "language": "python",
   "name": "python3"
  },
  "language_info": {
   "codemirror_mode": {
    "name": "ipython",
    "version": 3
   },
   "file_extension": ".py",
   "mimetype": "text/x-python",
   "name": "python",
   "nbconvert_exporter": "python",
   "pygments_lexer": "ipython3",
   "version": "3.7.1"
  }
 },
 "nbformat": 4,
 "nbformat_minor": 2
}
