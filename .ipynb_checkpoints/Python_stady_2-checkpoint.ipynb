{
 "cells": [
  {
   "cell_type": "code",
   "execution_count": null,
   "metadata": {},
   "outputs": [],
   "source": [
    "#6章モジュール"
   ]
  },
  {
   "cell_type": "code",
   "execution_count": 1,
   "metadata": {},
   "outputs": [],
   "source": [
    "import fibo#フィボナッチ級数を書き出すモジュールをインポート"
   ]
  },
  {
   "cell_type": "code",
   "execution_count": 2,
   "metadata": {},
   "outputs": [
    {
     "name": "stdout",
     "output_type": "stream",
     "text": [
      "1 1 2 3 5 8 13 21 34 55 89 144 233 377 610 987 \n"
     ]
    }
   ],
   "source": [
    "fibo.fib(1000)"
   ]
  },
  {
   "cell_type": "code",
   "execution_count": 3,
   "metadata": {},
   "outputs": [
    {
     "data": {
      "text/plain": [
       "[1, 1, 2, 3, 5, 8, 13, 21, 34, 55, 89]"
      ]
     },
     "execution_count": 3,
     "metadata": {},
     "output_type": "execute_result"
    }
   ],
   "source": [
    "fibo.fib2(100)"
   ]
  },
  {
   "cell_type": "code",
   "execution_count": 4,
   "metadata": {},
   "outputs": [
    {
     "data": {
      "text/plain": [
       "'fibo'"
      ]
     },
     "execution_count": 4,
     "metadata": {},
     "output_type": "execute_result"
    }
   ],
   "source": [
    "fibo.__name__"
   ]
  },
  {
   "cell_type": "code",
   "execution_count": 5,
   "metadata": {},
   "outputs": [
    {
     "name": "stdout",
     "output_type": "stream",
     "text": [
      "1 1 2 3 5 8 13 21 34 55 89 144 233 377 \n"
     ]
    }
   ],
   "source": [
    "#関数を頻繁に使いたいときはローカル変数に代入すれば入力が楽になる\n",
    "fib = fibo.fib\n",
    "fib(500)"
   ]
  },
  {
   "cell_type": "markdown",
   "metadata": {},
   "source": [
    "#さらにモジュールについて\n",
    "モジュールはそれぞれがプライベートなシンボル表を持つ。このシンボル表はそのモジュールで定義される全ての関数にとってのグローバルシンボル表である。\n",
    "ゆえにモジュール作者は、モジュール利用者のグローバル変数と衝突する心配なしに、モジュール内でのグローバル変数が使える。\n",
    "利用者側も覚悟があれば、関数と同様のmodulename.itemnameの形で、モジュールのグローバル変数にアクセスしても良い。"
   ]
  },
  {
   "cell_type": "code",
   "execution_count": 6,
   "metadata": {},
   "outputs": [
    {
     "name": "stdout",
     "output_type": "stream",
     "text": [
      "1 1 2 3 5 8 13 21 34 55 89 144 233 377 \n"
     ]
    }
   ],
   "source": [
    "#import分には別の構文もある。これはモジュール内で定義されている名前をimportする側のシンボル表に直接取り込むこと\n",
    "from fibo import fib,fib2\n",
    "fib(500)"
   ]
  },
  {
   "cell_type": "code",
   "execution_count": null,
   "metadata": {},
   "outputs": [],
   "source": [
    "#モジュールをスクリプトとして実行する\n",
    "#pythonモジュールを以下のように実行すると\n",
    "python fibo.py 100\n",
    "#モジュール中のコードはimport時と同様に実行される。ただしその__name__は'__main__'となる。"
   ]
  },
  {
   "cell_type": "code",
   "execution_count": null,
   "metadata": {},
   "outputs": [],
   "source": [
    "if __name__==\"__main__\":\n",
    "    import sys\n",
    "    fib(int(sys.argv[1]))\n",
    "#上記コードを末尾に入力すると、そのファイルをスクリプトとしても、またimport可能なモジュールとしても使えるようにできるということだ。\n",
    "#コマンドラインをパースするコードはモジュールが「メイン」ファイルとして実行された時のみ走るからだ\n",
    "$ python fibo.py 50\n",
    "# ~実行結果~\n",
    "\n",
    "import fibo\n",
    "#モジュールとしてインポートされたときは、このコードは走らない"
   ]
  },
  {
   "cell_type": "markdown",
   "metadata": {},
   "source": [
    "#モジュールの検索パス\n",
    "spamという名前のモジュールがインポートされる時、インタープリタはまずビルドインモジュールの中にこの名前のモジュールがないか検索する。見つからなければsys.path変数で得られるディレクトリのリストを使ってspam.pyというファイルを検索する。\n",
    "sys.pathは以下の場所に初期化されている:\n",
    " ・入力スクリプトのあるディレクトリ(ファイル名が指名されていないときはカレントディレクトリ)\n",
    " ・PYTHONPATH(ディレクトリ名のリスト。構文はシェル変数PATHと同じ)。\n",
    " ・インストールごとのデフォルト"
   ]
  },
  {
   "cell_type": "code",
   "execution_count": null,
   "metadata": {},
   "outputs": [],
   "source": [
    "#標準モジュール\n"
   ]
  }
 ],
 "metadata": {
  "kernelspec": {
   "display_name": "Python 3",
   "language": "python",
   "name": "python3"
  },
  "language_info": {
   "codemirror_mode": {
    "name": "ipython",
    "version": 3
   },
   "file_extension": ".py",
   "mimetype": "text/x-python",
   "name": "python",
   "nbconvert_exporter": "python",
   "pygments_lexer": "ipython3",
   "version": "3.7.1"
  }
 },
 "nbformat": 4,
 "nbformat_minor": 2
}
