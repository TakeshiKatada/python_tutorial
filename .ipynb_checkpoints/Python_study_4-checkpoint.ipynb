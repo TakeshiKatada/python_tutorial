{
 "cells": [
  {
   "cell_type": "code",
   "execution_count": null,
   "metadata": {},
   "outputs": [],
   "source": [
    "#9章 クラス"
   ]
  },
  {
   "cell_type": "markdown",
   "metadata": {},
   "source": [
    "#名前とオブジェクトについて\n",
    "オブジェクトには個体差があり、同一のオブジェクトに(複数のスコープから)複数の名前を割り当てることができる。\n",
    "この機能は他の言語で別名づけ(alias)として知られている.\n",
    "別名づけは変更不能型(数値、文字列、タプル)を扱う時には無視しても最初は問題ない。\n",
    "しかしながら、別名付けは、リストや辞書や他の多くの型など、変更可能な型を扱う Python コード上で驚くべき効果がある。\n",
    "別名づけはいくつかの点でポインタのように振る舞う\n",
    "例えば、オブジェクトの受け渡しは、実装上はポインタが渡されるだけなので、コストの低い操作になる。\n",
    "また、関数があるオブジェクトを引数として渡されたとき、関数の呼び出し側からオブジェクトに対する変更を見ることができる。"
   ]
  },
  {
   "cell_type": "markdown",
   "metadata": {},
   "source": [
    "#Pythonのスコープと名前空間\n",
    "名前空間とは、名前とオブジェクトの対応づけ(マッピング)のことである。\n",
    "ほとんどの名前加工はpythonディクショナリとして実装されているが、\n",
    "名前空間で重要なのは、異なる名前空間同士の名前には一切の関わりがないこと。\n",
    "2つの異なるモジュールに全く同じ名前の関数を定義しても、混同されることはない。\n",
    "使う側から見れば、「モジュール名、関数名」の形で前置きする必要がある。\n",
    "ドットに続くあらゆる名前について[属性]という言葉を使う。\n",
    "例えばr.realと書いたとき、realはオブジェクトzの属性である。厳密に言えば、\n",
    "モジュール内の名前に対する参照とは、属性の参照である。"
   ]
  },
  {
   "cell_type": "markdown",
   "metadata": {},
   "source": [
    "modname.funcnameと書いた時、\n",
    "[modname]はモジュールオブジェクトであり、[funcname]はその属性だ。\n",
    "属性は読み取り専用にも、読み書き両用にもなる。\n",
    "「modname.the_answer = 42」などと書けるのである。\n",
    "読み書き両用の属性は、del文による削除の可能である。例えば、\n",
    "del modname.the_answerと書けばmodnameというオブジェクトから属性the_answerが削除される。"
   ]
  },
  {
   "cell_type": "markdown",
   "metadata": {},
   "source": [
    "ビルトイン名の入った名前空間は、Pythonインタープリタの起動とともに作られ、終了まで削除されない。\n",
    "モジュールのグローバル名前空間は、モジュール定義の読み込み時に作られる。\n",
    "普通はこれもインタープリタの終了まで保持される。\n",
    "関数のローカル名前空間は、関数がコールされた時作られ、関数から戻ったり、関数内で処理されない例外を送出した時削除される"
   ]
  },
  {
   "cell_type": "markdown",
   "metadata": {},
   "source": [
    "　スコープとは、ある名前空間から直接アクセスできる、プログラムテキスト上の範囲のことである。\n",
    "「直接アクセス」とは、名前空間中の名前を無条件の参照によって見つけることである。\n",
    "入れ子には3つスコープが存在する。\n",
    "　もっとも内側にあり、最初に検索されるのは、ローカル名の入ったスコープ。\n",
    "　これを取りかこむ関数がある場合、その名前空間も最内のスコープかた純に検索される。ここには非ローカル、かつ非グローバルな名前が入ってる。\n",
    "　最初から2番目に検索されるスコープには、今いるモジュールのグローバルな名前が入っている。\n",
    "　もっとも外側のスコープ（最後に検索される）は、ビルトイン名の入った名前空間である。"
   ]
  },
  {
   "cell_type": "markdown",
   "metadata": {},
   "source": [
    "グローバルと宣言された名前では、参照と代入が中間のスコープ（モジュールのグローバル名が入っている部分）に直接行われる。\n",
    "これ以外の変数で最内のスコープより外側にあるものには、nonlocal文を使うことで再結合できる。\n",
    "nonlozalが宣言されていなければ、こうした変数は読み取り専用になる\n",
    "（こうした変数に書き込もうとすると、最内のスコープに同名のローカル変数が新たに生成されるだけだ。外側の変数は変更されない。）。"
   ]
  },
  {
   "cell_type": "markdown",
   "metadata": {},
   "source": [
    "通常、ローカルスコープは (プログラムテキスト上の) 現在の関数のローカルな名前を参照する。関数の外側では、ローカルスコープはグローバルな名前空間と同じ名前空間、モジュールの名前空間を参照する。クラス定義では、ローカルスコープの中にもう一つ名前空間が置かれる。\n",
    "\n",
    "スコープはテキスト上で決定されていると理解することが重要。モジュール内で定義される関数のグローバルなスコープは、関数がどこから呼び出されても、どんな別名をつけて呼び出されても、そのモジュールの名前空間になる。反対に、実際の名前の検索は実行時に動的に行われます ーーーとはいえ、言語の定義は、\"コンパイル\" 時の静的な名前解決の方向に進化しているので、動的な名前解決に頼ってはいけない！ (事実、ローカルな変数は既に静的に決定される。)\n",
    "\n",
    "Python 特有の癖として、代入を行うと ーー どの global 文も有効でない場合は ーー 名前がいつも最も内側のスコープに入るというものがあります。代入はデータのコピーを行和ない ーーー 単に名前をオブジェクトに結びつける (bind) だけ。オブジェクトの削除でも同じ: del x は、 x をローカルスコープが参照している名前空間から削除する。実際、新たな名前を導入する操作は全てローカルスコープを用いる。とりわけ、 import 文や関数定義は、モジュールや関数の名前をローカルスコープに結び付ける。\n",
    "\n",
    "global 文を使うと、特定の変数がグローバルスコープに存在し、そこで再束縛されることを指示できる。 nonlocal 文は、特定の変数が外側のスコープに存在し、そこで再束縛されることを指示する。"
   ]
  },
  {
   "cell_type": "code",
   "execution_count": 1,
   "metadata": {},
   "outputs": [
    {
     "name": "stdout",
     "output_type": "stream",
     "text": [
      "After local assignment: test spam\n",
      "After nonlocal assignment: nonlocal spam\n",
      "After global assignment: nonlocal spam\n",
      "In global scope: global spam\n"
     ]
    }
   ],
   "source": [
    "#スコープと名前空間の例\n",
    "def scope_test():\n",
    "    def do_local():\n",
    "        spam = \"local spam\"\n",
    "    def do_nonlocal():\n",
    "        nonlocal spam\n",
    "        spam = \"nonlocal spam\"\n",
    "    def do_global():\n",
    "        global spam\n",
    "        spam = \"global spam\"\n",
    "    spam = \"test spam\"\n",
    "    do_local()\n",
    "    print(\"After local assignment:\", spam)\n",
    "    do_nonlocal()\n",
    "    print(\"After nonlocal assignment:\", spam)\n",
    "    do_global()\n",
    "    print(\"After global assignment:\", spam)\n",
    "    \n",
    "scope_test()\n",
    "print(\"In global scope:\", spam)"
   ]
  },
  {
   "cell_type": "markdown",
   "metadata": {},
   "source": [
    "上記の通り、ローカル代入（これがデフォルト操作）は、scope_test内でのspamのバインディングを変化させない。\n",
    "nonlocal代入はscope_testのspamのバインディングを変更し、global代入はモジュールレベルでのバインディングを変更している。\n",
    "　global代入の実行以前には、モジュールレベルのspamにはバインディングがなかったこともポイント。"
   ]
  },
  {
   "cell_type": "code",
   "execution_count": null,
   "metadata": {},
   "outputs": [],
   "source": [
    "#はじめてのクラス\n",
    "#クラス定義の構文\n",
    "クラス定義の一番簡単な形はこのようになる："
   ]
  },
  {
   "cell_type": "code",
   "execution_count": null,
   "metadata": {},
   "outputs": [],
   "source": [
    "class ClassName:\n",
    "    <文1>\n",
    "    .\n",
    "    .\n",
    "    .\n",
    "    <文N>"
   ]
  },
  {
   "cell_type": "markdown",
   "metadata": {},
   "source": [
    "　関数定義(def)と同じように、クラス定義を有効化するには１度実行する必要がある。\n",
    "また、クラス定義をif文の枝の中や関数内で行うことも理論的には可能である。\n",
    "　クラス定義に入ると新しい名前空間が生成され、ローカルスコープとして使われるー\n",
    " ーゆえにローカル変数への代入は、すべてこの新しい名前空間に行われる。\n",
    " クラス定義中で関数が定義された時も同じで、関数名はここに結合される。\n",
    " クラス定義から正常に(末尾で)抜けるとクラスオブジェクトが作られる。これは基本的に、\n",
    " クラス定義で作られた名前空間の内容を含むラッパーに過ぎない。\n",
    " 続いて元のローカルスコープ(クラス定義に入る前に有効だったもの)が復活し、\n",
    " クラス定義ヘッダで命名した名前(この例ではClassname)とクラスオブジェクトがこの中で結合される。"
   ]
  },
  {
   "cell_type": "code",
   "execution_count": null,
   "metadata": {},
   "outputs": [],
   "source": [
    "#クラスオブジェクト\n",
    "クラスオブジェクトは2種類の操作をサポートする。\n",
    "属性参照とインスタンス化である。\n",
    "属性参照 (attribute reference) は、Python におけるすべての属性参照で使われている標準的な構文、 \n",
    "obj.name を使用する。クラスオブジェクトが生成された際にクラスの名前空間に\n",
    "あった名前すべてが有効な属性名です。従って、以下のようなクラス定義では:"
   ]
  },
  {
   "cell_type": "code",
   "execution_count": 1,
   "metadata": {},
   "outputs": [],
   "source": [
    "class MyClass:\n",
    "    \"\"\"A simple example class\"\"\"\n",
    "    i = 12345\n",
    "\n",
    "    def f(self):\n",
    "        return 'hello world'"
   ]
  },
  {
   "cell_type": "raw",
   "metadata": {},
   "source": [
    "Myclass.iとMyClass.fが属性参照として有効であり、\n",
    "それぞれ整数オブジェクトと関数オブジェクトを返すことになる。\n",
    "クラス属性への代入も可能なので、MyClass.iの値は代入により変更できる。\n",
    "__doc__も有効な属性で、これはクラスのdocstringを返す。この場合は「A sinmle example class」である。"
   ]
  },
  {
   "cell_type": "code",
   "execution_count": null,
   "metadata": {},
   "outputs": [],
   "source": [
    "クラスのインスタンス化には関数表記法が使われる。クラスオブジェクトを、\n",
    "引数を持たずインスタンスを返す関数とみなせばいい。"
   ]
  },
  {
   "cell_type": "code",
   "execution_count": 2,
   "metadata": {},
   "outputs": [],
   "source": [
    "x = MyClass()"
   ]
  },
  {
   "cell_type": "code",
   "execution_count": null,
   "metadata": {},
   "outputs": [],
   "source": [
    "これでこのクラスの新しいインスタンスが生成され、ローカル変数Xに代入された。\n",
    "インスタンス化の操作(クラスオブジェクトの「コール」)は、空のオブジェクトを生成する。\n",
    "多くのクラスでは、生成するオブジェクトのインスタンスが何らかの初期状態にカスタマイズしてある\n",
    "ことが望ましい。この為クラスには__init__()という特殊メソッドが定義できるようになっている。"
   ]
  },
  {
   "cell_type": "code",
   "execution_count": 3,
   "metadata": {},
   "outputs": [],
   "source": [
    "def __init__(self):\n",
    "    sejf.data = []"
   ]
  },
  {
   "cell_type": "code",
   "execution_count": null,
   "metadata": {},
   "outputs": [],
   "source": [
    "クラスに__init__()メソッドが定義してあると、新規生成されたインスタンスに対して自動的に__init__()がコールされる。\n",
    "今回の例では次のコードだけで初期化済みのインスタンスが得られる。"
   ]
  },
  {
   "cell_type": "code",
   "execution_count": null,
   "metadata": {},
   "outputs": [],
   "source": [
    "x = MyClass()"
   ]
  },
  {
   "cell_type": "code",
   "execution_count": null,
   "metadata": {},
   "outputs": [],
   "source": [
    "より大きな柔軟性を持たせるために、 __init__() メソッドに複数の引数をもたせることができる。\n",
    "その場合、次の例のように、クラスのインスタンス生成操作に渡された引数は __init__() に渡される。例えば、"
   ]
  },
  {
   "cell_type": "code",
   "execution_count": 4,
   "metadata": {},
   "outputs": [
    {
     "data": {
      "text/plain": [
       "(3.0, -4.5)"
      ]
     },
     "execution_count": 4,
     "metadata": {},
     "output_type": "execute_result"
    }
   ],
   "source": [
    "class Complex:\n",
    "    def __init__(self, realpart, imagpart):\n",
    "        self.r = realpart\n",
    "        self.i = imagpart\n",
    "x = Complex(3.0, -4.5)\n",
    "x.r, x.i"
   ]
  },
  {
   "cell_type": "code",
   "execution_count": 5,
   "metadata": {},
   "outputs": [
    {
     "name": "stdout",
     "output_type": "stream",
     "text": [
      "16\n"
     ]
    }
   ],
   "source": [
    "#インスタンスオブジェクト\n",
    "インスタンスオブジェクトが理解できる操作は属性参照のみである。\n",
    "属性名としては、データ属性とメソッドの2種類が有効だ。\n",
    "　データ属性は宣言する必要がない。ローカル変数同様代入すれば存在を始める。\n",
    "例えばXを先ほどの例のMyClassのインスタンスとして、以下のコードは16を表示し、痕跡を残さない\n",
    "\n",
    "x.counter = 1\n",
    "while x.counter < 10:\n",
    "    x.counter = x.counter * 2\n",
    "print(x.counter)\n",
    "del x.counter"
   ]
  },
  {
   "cell_type": "code",
   "execution_count": null,
   "metadata": {},
   "outputs": [],
   "source": [
    "もうひとつのインスタンス属性参照がメソッドだ。メソッドとは、\n",
    "オブジェクトに属した関数である。\n",
    "インスタンスオブジェクトで有効なメソッド名は、そのクラスによる。\n",
    "定義により、クラスの全ての関数オブジェクトである属性がインスタンスオブジェクトの妥当なメソッド名に決まる。\n",
    "上記例で言えば、MyClass.fは関数なので、x.fは有効なメソッド参照となるし、\n",
    "MyClass.iはそうでないのでx.iも違う。ただし、\n",
    "x.fはMyClass.fと同じものではないーーそれはメソッドオブジェクトであり、関数オブジェクトではない。"
   ]
  },
  {
   "cell_type": "markdown",
   "metadata": {},
   "source": [
    "#メソッドオブジェクト\n",
    "普通、メソッドは結合後すぐ実行される。\n",
    "x.f()\n",
    "MyClassの例では、この文字列は「hello world」を返す。しかしメソッドは直ちに実行しなくてもよい。\n",
    "x.fはメソッドオブジェクトであり、どこかに格納して後からコールすることができるのだ。\n",
    "xf = x.f\n",
    "while True:\n",
    "    print(xf())\n",
    "これは時間の果てまで「helloworld」をプリントし続ける。\n",
    "上記例で、x.f()の関数定義では引数が指定されていたにも関わらず、x.f()が引数なしでコールされている。\n",
    "引数を要求する関数に引数を渡さなければ例外が出るはずだが、\n",
    "メソッドの特殊性なのだが、第1引数としてインスタンスのオブジェクトが渡されることにある。\n",
    "上記例で言えば、x.f()のコールは、MyClass.f(x)と厳密に等価である。\n",
    "n個の引数でメソッドをコールすることは、引数リストの最初にメソッドオブジェクトを挿入して作った\n",
    "n+1個の引数リストを渡して当該関数をコールすることと等価である。\n"
   ]
  },
  {
   "cell_type": "code",
   "execution_count": null,
   "metadata": {},
   "outputs": [],
   "source": []
  }
 ],
 "metadata": {
  "kernelspec": {
   "display_name": "Python 3",
   "language": "python",
   "name": "python3"
  },
  "language_info": {
   "codemirror_mode": {
    "name": "ipython",
    "version": 3
   },
   "file_extension": ".py",
   "mimetype": "text/x-python",
   "name": "python",
   "nbconvert_exporter": "python",
   "pygments_lexer": "ipython3",
   "version": "3.7.1"
  }
 },
 "nbformat": 4,
 "nbformat_minor": 2
}
